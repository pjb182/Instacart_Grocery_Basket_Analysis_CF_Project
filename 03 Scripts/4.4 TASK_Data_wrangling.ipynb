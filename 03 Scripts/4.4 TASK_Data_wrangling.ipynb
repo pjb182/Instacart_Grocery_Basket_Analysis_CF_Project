{
 "cells": [
  {
   "cell_type": "markdown",
   "id": "79446fba",
   "metadata": {},
   "source": [
    "# 01. Importing libraries"
   ]
  },
  {
   "cell_type": "code",
   "execution_count": 1,
   "id": "6f2c6d11",
   "metadata": {},
   "outputs": [],
   "source": [
    "# Import libraries\n",
    "import pandas as pd\n",
    "import numpy as np\n",
    "import os"
   ]
  },
  {
   "cell_type": "markdown",
   "id": "a213ab17",
   "metadata": {},
   "source": [
    "# 02. Importing data"
   ]
  },
  {
   "cell_type": "code",
   "execution_count": 2,
   "id": "0a1062dd",
   "metadata": {},
   "outputs": [],
   "source": [
    "# Shortcut for importing original data files\n",
    "path_og = r'G:\\My Drive\\CareerFoundry\\Python Projects\\2023-10 Instacart Basket Analysis\\02 Data\\Original Data'"
   ]
  },
  {
   "cell_type": "code",
   "execution_count": 3,
   "id": "f3e2c718",
   "metadata": {},
   "outputs": [
    {
     "data": {
      "text/plain": [
       "'G:\\\\My Drive\\\\CareerFoundry\\\\Python Projects\\\\2023-10 Instacart Basket Analysis\\\\02 Data\\\\Original Data'"
      ]
     },
     "execution_count": 3,
     "metadata": {},
     "output_type": "execute_result"
    }
   ],
   "source": [
    "path_og"
   ]
  },
  {
   "cell_type": "code",
   "execution_count": 4,
   "id": "8c2b65b2",
   "metadata": {},
   "outputs": [],
   "source": [
    "# Creates a list with only the 'necessary' columns from the data set\n",
    "vars_list = ['order_id', 'user_id', 'order_number', 'order_dow', 'order_hour_of_day', 'days_since_prior_order']"
   ]
  },
  {
   "cell_type": "code",
   "execution_count": 5,
   "id": "2825344b",
   "metadata": {},
   "outputs": [
    {
     "data": {
      "text/plain": [
       "['order_id',\n",
       " 'user_id',\n",
       " 'order_number',\n",
       " 'order_dow',\n",
       " 'order_hour_of_day',\n",
       " 'days_since_prior_order']"
      ]
     },
     "execution_count": 5,
     "metadata": {},
     "output_type": "execute_result"
    }
   ],
   "source": [
    "vars_list"
   ]
  },
  {
   "cell_type": "code",
   "execution_count": 6,
   "id": "89648c36",
   "metadata": {},
   "outputs": [],
   "source": [
    "# Imports orders data set using the vars_list - usecols function\n",
    "df_ords = pd.read_csv(os.path.join(path_og, 'orders.csv'), usecols = vars_list)"
   ]
  },
  {
   "cell_type": "code",
   "execution_count": 7,
   "id": "29205e0e",
   "metadata": {},
   "outputs": [],
   "source": [
    "# Imports products data set\n",
    "df_prods = pd.read_csv(os.path.join(path_og, 'products.csv'), index_col = False)"
   ]
  },
  {
   "cell_type": "markdown",
   "id": "d0a62a0b",
   "metadata": {},
   "source": [
    "# 03. Exercise practice functions - DATA WRANGLING"
   ]
  },
  {
   "cell_type": "markdown",
   "id": "536460ce",
   "metadata": {},
   "source": [
    "## - Dropping Columns"
   ]
  },
  {
   "cell_type": "code",
   "execution_count": 8,
   "id": "28ee58fb",
   "metadata": {},
   "outputs": [
    {
     "data": {
      "text/plain": [
       "days_since_prior_order\n",
       "30.0    369323\n",
       "7.0     320608\n",
       "6.0     240013\n",
       "4.0     221696\n",
       "3.0     217005\n",
       "5.0     214503\n",
       "NaN     206209\n",
       "2.0     193206\n",
       "8.0     181717\n",
       "1.0     145247\n",
       "9.0     118188\n",
       "14.0    100230\n",
       "10.0     95186\n",
       "13.0     83214\n",
       "11.0     80970\n",
       "12.0     76146\n",
       "0.0      67755\n",
       "15.0     66579\n",
       "16.0     46941\n",
       "21.0     45470\n",
       "17.0     39245\n",
       "20.0     38527\n",
       "18.0     35881\n",
       "19.0     34384\n",
       "22.0     32012\n",
       "28.0     26777\n",
       "23.0     23885\n",
       "27.0     22013\n",
       "24.0     20712\n",
       "25.0     19234\n",
       "29.0     19191\n",
       "26.0     19016\n",
       "Name: count, dtype: int64"
      ]
     },
     "execution_count": 8,
     "metadata": {},
     "output_type": "execute_result"
    }
   ],
   "source": [
    "# value_counts() function\n",
    "df_ords['days_since_prior_order'].value_counts(dropna = False)"
   ]
  },
  {
   "cell_type": "code",
   "execution_count": 9,
   "id": "8798be12",
   "metadata": {},
   "outputs": [],
   "source": [
    "# NaN represents missing values"
   ]
  },
  {
   "cell_type": "markdown",
   "id": "b2b9c5bf",
   "metadata": {},
   "source": [
    "## - Renaming Columns"
   ]
  },
  {
   "cell_type": "code",
   "execution_count": 10,
   "id": "50d8fccc",
   "metadata": {},
   "outputs": [
    {
     "ename": "NameError",
     "evalue": "name 'df' is not defined",
     "output_type": "error",
     "traceback": [
      "\u001b[1;31m---------------------------------------------------------------------------\u001b[0m",
      "\u001b[1;31mNameError\u001b[0m                                 Traceback (most recent call last)",
      "Cell \u001b[1;32mIn[10], line 3\u001b[0m\n\u001b[0;32m      1\u001b[0m \u001b[38;5;66;03m# df.rename() function - change ords_dow to ords_day_of_week\u001b[39;00m\n\u001b[0;32m      2\u001b[0m \u001b[38;5;66;03m# always confirm with client that name change is allowed\u001b[39;00m\n\u001b[1;32m----> 3\u001b[0m df\u001b[38;5;241m.\u001b[39mrename(columns \u001b[38;5;241m=\u001b[39m {\u001b[38;5;124m'\u001b[39m\u001b[38;5;124morder_dow\u001b[39m\u001b[38;5;124m'\u001b[39m : \u001b[38;5;124m'\u001b[39m\u001b[38;5;124morders_day_of_week\u001b[39m\u001b[38;5;124m'\u001b[39m}, inplace \u001b[38;5;241m=\u001b[39m \u001b[38;5;28;01mTrue\u001b[39;00m)\n",
      "\u001b[1;31mNameError\u001b[0m: name 'df' is not defined"
     ]
    }
   ],
   "source": [
    "# df.rename() function - change ords_dow to ords_day_of_week\n",
    "# always confirm with client that name change is allowed\n",
    "df.rename(columns = {'order_dow' : 'orders_day_of_week'}, inplace = True)"
   ]
  },
  {
   "cell_type": "code",
   "execution_count": null,
   "id": "e8cd2797",
   "metadata": {},
   "outputs": [],
   "source": [
    "df_ords.rename(columns = {'order_dow' : 'orders_day_of_week'}, inplace = True)"
   ]
  },
  {
   "cell_type": "code",
   "execution_count": null,
   "id": "76f3ef6c",
   "metadata": {},
   "outputs": [],
   "source": [
    "df_ords.head()"
   ]
  },
  {
   "cell_type": "markdown",
   "id": "d79f19e6",
   "metadata": {},
   "source": [
    "## - Changing a Variable's Data Type"
   ]
  },
  {
   "cell_type": "code",
   "execution_count": null,
   "id": "d4f5d2ee",
   "metadata": {},
   "outputs": [],
   "source": [
    "# Change dt before using describe()\n",
    "df_ords['order_id'] = df_ords['order_id'].astype('str')"
   ]
  },
  {
   "cell_type": "code",
   "execution_count": null,
   "id": "b9afd5a9",
   "metadata": {},
   "outputs": [],
   "source": [
    "# Use dtype() to confirm change - ** SINGULAR dtype b/c you're only checking one column\n",
    "df_ords['order_id'].dtype"
   ]
  },
  {
   "cell_type": "code",
   "execution_count": null,
   "id": "a107db22",
   "metadata": {},
   "outputs": [],
   "source": [
    "# 'O' stands for object, pandas' version of a string"
   ]
  },
  {
   "cell_type": "markdown",
   "id": "08a80f95",
   "metadata": {},
   "source": [
    "## - Transposing Data"
   ]
  },
  {
   "cell_type": "code",
   "execution_count": null,
   "id": "4e17583b",
   "metadata": {},
   "outputs": [],
   "source": [
    "# I have to create a new path_og b/c I did not add orders and products csvs to 4.4 folder, but imported them from a different location.\n",
    "# I'm correcting this for derpartments csv file"
   ]
  },
  {
   "cell_type": "code",
   "execution_count": null,
   "id": "c8b49b50",
   "metadata": {},
   "outputs": [],
   "source": [
    "path_og_2 = r'G:\\My Drive\\CareerFoundry\\Python Projects\\2023-10 Data Immersion Task 4.4\\02 Data\\Original Data'"
   ]
  },
  {
   "cell_type": "code",
   "execution_count": null,
   "id": "f5882c62",
   "metadata": {},
   "outputs": [],
   "source": [
    "# Imports departments data set\n",
    "df_dep = pd.read_csv(os.path.join(path_og_2, 'departments.csv'), index_col = False)"
   ]
  },
  {
   "cell_type": "code",
   "execution_count": null,
   "id": "ed2a4d83",
   "metadata": {},
   "outputs": [],
   "source": [
    "df_dep.head()"
   ]
  },
  {
   "cell_type": "code",
   "execution_count": null,
   "id": "f0b71af6",
   "metadata": {},
   "outputs": [],
   "source": [
    "# transposes from wide to long format and vice-versa\n",
    "df_dep.T"
   ]
  },
  {
   "cell_type": "code",
   "execution_count": null,
   "id": "f8842ab1",
   "metadata": {},
   "outputs": [],
   "source": [
    "# To rewrite transpotion save new tranposed version as a new data frame\n",
    "df_dep_t = df_dep.T"
   ]
  },
  {
   "cell_type": "code",
   "execution_count": null,
   "id": "64d25ab0",
   "metadata": {},
   "outputs": [],
   "source": [
    "# check new df\n",
    "df_dep_t"
   ]
  },
  {
   "cell_type": "code",
   "execution_count": null,
   "id": "4efd9fc1",
   "metadata": {},
   "outputs": [],
   "source": [
    " # transpo confused pandas and made 'O' a header\n",
    "## to change, FIRST add an index to new df"
   ]
  },
  {
   "cell_type": "code",
   "execution_count": null,
   "id": "2bea269c",
   "metadata": {},
   "outputs": [],
   "source": [
    "df_dep_t.reset_index()"
   ]
  },
  {
   "cell_type": "code",
   "execution_count": null,
   "id": "e3f91e36",
   "metadata": {},
   "outputs": [],
   "source": [
    "# SECOND, create a new head (3 steps)"
   ]
  },
  {
   "cell_type": "code",
   "execution_count": null,
   "id": "40c6388c",
   "metadata": {},
   "outputs": [],
   "source": [
    "# Step 1 - Take the first row of df_dep_t for the header\n",
    "new_header = df_dep_t.iloc[0]"
   ]
  },
  {
   "cell_type": "code",
   "execution_count": null,
   "id": "1f38f09c",
   "metadata": {},
   "outputs": [],
   "source": [
    "new_header"
   ]
  },
  {
   "cell_type": "code",
   "execution_count": null,
   "id": "4c8b7049",
   "metadata": {},
   "outputs": [],
   "source": [
    "# Step 2 - create a new dataframe that only copies over rows beyond the first row\n",
    "df_dep_t_new = df_dep_t[1:]"
   ]
  },
  {
   "cell_type": "code",
   "execution_count": null,
   "id": "9621074d",
   "metadata": {},
   "outputs": [],
   "source": [
    "df_dep_t_new"
   ]
  },
  {
   "cell_type": "code",
   "execution_count": null,
   "id": "27e3db26",
   "metadata": {},
   "outputs": [],
   "source": [
    "# Add the new header"
   ]
  },
  {
   "cell_type": "code",
   "execution_count": null,
   "id": "646c365c",
   "metadata": {},
   "outputs": [],
   "source": [
    "# Set the header row as the df header\n",
    "df_dep_t_new.columns = new_header"
   ]
  },
  {
   "cell_type": "code",
   "execution_count": null,
   "id": "9711779d",
   "metadata": {},
   "outputs": [],
   "source": [
    "df_dep_t_new"
   ]
  },
  {
   "cell_type": "markdown",
   "id": "57938bf2",
   "metadata": {},
   "source": [
    "## DATA DICTIONARIES"
   ]
  },
  {
   "cell_type": "code",
   "execution_count": null,
   "id": "f67ae967",
   "metadata": {},
   "outputs": [],
   "source": [
    "# to_dict function - changes df_dep_t into a data dictionary\n",
    "data_dict = df_dep_t_new.to_dict('index')"
   ]
  },
  {
   "cell_type": "code",
   "execution_count": null,
   "id": "8f7bb8aa",
   "metadata": {},
   "outputs": [],
   "source": [
    "data_dict"
   ]
  },
  {
   "cell_type": "code",
   "execution_count": null,
   "id": "3d03ae90",
   "metadata": {},
   "outputs": [],
   "source": [
    "df_prods.head()"
   ]
  },
  {
   "cell_type": "code",
   "execution_count": null,
   "id": "dc9ff5d9",
   "metadata": {},
   "outputs": [],
   "source": [
    "# Use the new data dictionary to determine what the department ids stand for by calling..."
   ]
  },
  {
   "cell_type": "code",
   "execution_count": null,
   "id": "9e645b8d",
   "metadata": {},
   "outputs": [],
   "source": [
    "print(data_dict.get('19'))"
   ]
  },
  {
   "cell_type": "markdown",
   "id": "1eddb2e6",
   "metadata": {},
   "source": [
    "## SUBSETTING"
   ]
  },
  {
   "cell_type": "code",
   "execution_count": null,
   "id": "27ceed5e",
   "metadata": {},
   "outputs": [],
   "source": [
    "# 1. Use FOLLOW COMMAND to create a subset\n",
    "# indexing code of the follow command\n",
    "df_prods['department_id']==19"
   ]
  },
  {
   "cell_type": "code",
   "execution_count": null,
   "id": "7b4e3b11",
   "metadata": {},
   "outputs": [],
   "source": [
    "df_prods[df_prods['department_id']==19]"
   ]
  },
  {
   "cell_type": "code",
   "execution_count": null,
   "id": "c1cc19a6",
   "metadata": {},
   "outputs": [],
   "source": [
    "# Enclosing df_prods['department_id']==19 inside df_prods[] tells Python to map the true/false procedure you witnessed in the \n",
    "# previous output onto the columns within the df_prods dataframe—the result being a list of only those values within df_prods \n",
    "# that are true (and, subsequently, only those values within df_prods that have a \"department_id\" of 19)."
   ]
  },
  {
   "cell_type": "code",
   "execution_count": null,
   "id": "75fa456f",
   "metadata": {},
   "outputs": [],
   "source": [
    "# Save all these results into a new dataframe - df_snacks\n",
    "df_snacks =  df_prods[df_prods['department_id']==19]"
   ]
  },
  {
   "cell_type": "code",
   "execution_count": null,
   "id": "1ff23c10",
   "metadata": {},
   "outputs": [],
   "source": [
    "df_snacks.head()"
   ]
  },
  {
   "cell_type": "code",
   "execution_count": null,
   "id": "c1d9c2d9",
   "metadata": {},
   "outputs": [],
   "source": [
    "# 2. Use loc function to create subset - loc looks for a column name\n",
    "df_snacks_2 = df_prods.loc[df_prods['department_id'] == 19]"
   ]
  },
  {
   "cell_type": "code",
   "execution_count": null,
   "id": "844cbc6a",
   "metadata": {},
   "outputs": [],
   "source": [
    "# OR this command\n",
    "df_snacks_3 = df_prods.loc[df_prods['department_id'].isin([19])]"
   ]
  },
  {
   "cell_type": "code",
   "execution_count": null,
   "id": "9cfbae5b",
   "metadata": {},
   "outputs": [],
   "source": [
    "# 2nd command, rather than using an equals sign, you’re telling the loc function to look into a list: isin([19]). \n",
    "# This is handy b/c you could use more than one value if you wanted to check multiple \"department_ids\" at the same time \n",
    "# (isin([17,18,19]))"
   ]
  },
  {
   "cell_type": "markdown",
   "id": "2b65f601",
   "metadata": {},
   "source": [
    "## EXPORTING DATAFRAMES"
   ]
  },
  {
   "cell_type": "code",
   "execution_count": null,
   "id": "e88e361a",
   "metadata": {},
   "outputs": [],
   "source": [
    "# Export command - df_ords.to_csv(os.path.join(path, '02 Data','Prepared Data', 'orders_wrangled.csv'))\n",
    "# Make sure to export into Prepared Data folder since it has been altered"
   ]
  },
  {
   "cell_type": "markdown",
   "id": "5bf6a5a2",
   "metadata": {},
   "source": [
    "# TASK 4.4"
   ]
  },
  {
   "cell_type": "markdown",
   "id": "d6d960a5",
   "metadata": {},
   "source": [
    "### Q.2 Find another identifier variable in the df_ords dataframe that doesn’t need to be included in your analysis as a numeric variable and change it to a suitable format."
   ]
  },
  {
   "cell_type": "code",
   "execution_count": null,
   "id": "dd153428",
   "metadata": {},
   "outputs": [],
   "source": [
    "# Change user_id from 'int' to 'object'\n",
    "df_ords['user_id'] = df_ords['user_id'].astype('str')"
   ]
  },
  {
   "cell_type": "code",
   "execution_count": null,
   "id": "6ebf7539",
   "metadata": {},
   "outputs": [],
   "source": [
    "df_ords['user_id'].dtype"
   ]
  },
  {
   "cell_type": "code",
   "execution_count": null,
   "id": "07d9a24b",
   "metadata": {},
   "outputs": [],
   "source": [
    "# orders_day_of_week and order_hour_of_day should also be changed to an object\n",
    "df_ords['orders_day_of_week'] = df_ords['orders_day_of_week'].astype('str')"
   ]
  },
  {
   "cell_type": "code",
   "execution_count": null,
   "id": "45339dfa",
   "metadata": {},
   "outputs": [],
   "source": [
    "df_ords['order_hour_of_day'] = df_ords['order_hour_of_day'].astype('str')"
   ]
  },
  {
   "cell_type": "code",
   "execution_count": null,
   "id": "f25d366a",
   "metadata": {},
   "outputs": [],
   "source": [
    "df_ords.dtypes"
   ]
  },
  {
   "cell_type": "markdown",
   "id": "d18dd18e",
   "metadata": {},
   "source": [
    "### Q.3 Look for a variable in your df_ords dataframe with an unintuitive name and change its name without overwriting the dataframe."
   ]
  },
  {
   "cell_type": "code",
   "execution_count": null,
   "id": "183d5a6c",
   "metadata": {},
   "outputs": [],
   "source": [
    "# order_number sounds like an id - change to number_of_orders for clarity\n",
    "df_ords_v2 = df_ords.rename(columns = {'order_number' : 'number_of_orders'}, inplace = False)"
   ]
  },
  {
   "cell_type": "code",
   "execution_count": null,
   "id": "934e378a",
   "metadata": {},
   "outputs": [],
   "source": [
    "df_ords.head()"
   ]
  },
  {
   "cell_type": "code",
   "execution_count": null,
   "id": "d8f1161c",
   "metadata": {},
   "outputs": [],
   "source": [
    "df_ords_v2.head()"
   ]
  },
  {
   "cell_type": "code",
   "execution_count": null,
   "id": "9c8317a3",
   "metadata": {},
   "outputs": [],
   "source": [
    "# From here on, df_ords_v2 is the current dataframe"
   ]
  },
  {
   "cell_type": "markdown",
   "id": "a9f0694c",
   "metadata": {},
   "source": [
    "## Q.4 Your client wants to know what the busiest hour is for placing orders. Find the frequency of the corresponding variable and share your findings."
   ]
  },
  {
   "cell_type": "code",
   "execution_count": null,
   "id": "4353941c",
   "metadata": {},
   "outputs": [],
   "source": [
    "df_ords_v2['order_hour_of_day'].value_counts()"
   ]
  },
  {
   "cell_type": "markdown",
   "id": "8f851a7a",
   "metadata": {},
   "source": [
    "### The busiest hour of the day is 10am."
   ]
  },
  {
   "cell_type": "markdown",
   "id": "f1596ee2",
   "metadata": {},
   "source": [
    "## Q.5 Determine the meaning behind a value of 4 in the \"department_id\" column within the df_prods dataframe using a data dictionary."
   ]
  },
  {
   "cell_type": "code",
   "execution_count": null,
   "id": "2c2474a7",
   "metadata": {},
   "outputs": [],
   "source": [
    "# Needed data dictionary already exists from previous code - data_dict = df_dep_t_new.to_dict('index')\n",
    "# Only calling the specific dept.id is necessary"
   ]
  },
  {
   "cell_type": "code",
   "execution_count": null,
   "id": "c04f4ecd",
   "metadata": {},
   "outputs": [],
   "source": [
    "print(data_dict.get('4'))"
   ]
  },
  {
   "cell_type": "markdown",
   "id": "24919de1",
   "metadata": {},
   "source": [
    "### The value 4 in the department_id column represents the Produce department."
   ]
  },
  {
   "cell_type": "markdown",
   "id": "4225e82c",
   "metadata": {},
   "source": [
    "## Q.6 The sales team in your client’s organization wants to know more about breakfast item sales. Create a subset containing only the required information."
   ]
  },
  {
   "cell_type": "code",
   "execution_count": null,
   "id": "d59f067c",
   "metadata": {},
   "outputs": [],
   "source": [
    "# First, determing breakfast items dept. id\n",
    "data_dict"
   ]
  },
  {
   "cell_type": "code",
   "execution_count": null,
   "id": "68c8bfa4",
   "metadata": {},
   "outputs": [],
   "source": [
    "# Breakfast id is 14"
   ]
  },
  {
   "cell_type": "code",
   "execution_count": null,
   "id": "5e7a9bb6",
   "metadata": {},
   "outputs": [],
   "source": [
    "# Create a subset of department 14 only\n",
    "df_prods_breakfast = df_prods[df_prods['department_id']==14]"
   ]
  },
  {
   "cell_type": "code",
   "execution_count": null,
   "id": "c1cf995c",
   "metadata": {},
   "outputs": [],
   "source": [
    "df_prods_breakfast.head(None)"
   ]
  },
  {
   "cell_type": "code",
   "execution_count": null,
   "id": "a276b48e",
   "metadata": {},
   "outputs": [],
   "source": [
    "# Concern: This subset doesn't give any information about the actual sales of breakfast items and I don't see a 'foreign key'\n",
    "# linking products to orders."
   ]
  },
  {
   "cell_type": "markdown",
   "id": "8a5b6871",
   "metadata": {},
   "source": [
    "## Q.7 They’d also like to see details about products that customers might use to throw dinner parties. Your task is to find all observations from the entire dataframe that include items from the following departments: alcohol, deli, beverages, and meat/seafood. You’ll need to present this subset to your client."
   ]
  },
  {
   "cell_type": "code",
   "execution_count": null,
   "id": "e24f7b88",
   "metadata": {},
   "outputs": [],
   "source": [
    "# First, find corresponding dept. ids\n",
    "data_dict"
   ]
  },
  {
   "cell_type": "code",
   "execution_count": null,
   "id": "2833e62a",
   "metadata": {},
   "outputs": [],
   "source": [
    "# alcohol = 5, deli = 20, beverages = 7, meat/seafood = 12"
   ]
  },
  {
   "cell_type": "code",
   "execution_count": null,
   "id": "dceb2733",
   "metadata": {},
   "outputs": [],
   "source": [
    "# Use loc and isin function for multiple filters\n",
    "df_prods_din_parties = df_prods.loc[df_prods['department_id'].isin([5, 20, 7, 12])]"
   ]
  },
  {
   "cell_type": "code",
   "execution_count": null,
   "id": "19a4e49f",
   "metadata": {},
   "outputs": [],
   "source": [
    "df_prods_din_parties.head(None)"
   ]
  },
  {
   "cell_type": "markdown",
   "id": "d440f18e",
   "metadata": {},
   "source": [
    "## Q.8 It’s important that you keep track of total counts in your dataframes. How many rows does the last dataframe you created have?"
   ]
  },
  {
   "cell_type": "code",
   "execution_count": null,
   "id": "99fe24d4",
   "metadata": {},
   "outputs": [],
   "source": [
    "# use shape to find # of rows\n",
    "df_prods_din_parties.shape"
   ]
  },
  {
   "cell_type": "markdown",
   "id": "2a9f9ca7",
   "metadata": {},
   "source": [
    "### The Dinner Parties df has 7,650 rows."
   ]
  },
  {
   "cell_type": "markdown",
   "id": "8359af17",
   "metadata": {},
   "source": [
    "## Q.9 Someone from the data engineers team in Instacart thinks they’ve spotted something strange about the customer with a \"user_id\" of “1.” Extract all the information you can about this user."
   ]
  },
  {
   "cell_type": "code",
   "execution_count": null,
   "id": "25d6e30d",
   "metadata": {},
   "outputs": [],
   "source": [
    "df_userid_1 = df_ords_v2[df_ords_v2['user_id']=='1']"
   ]
  },
  {
   "cell_type": "code",
   "execution_count": null,
   "id": "ce76fa73",
   "metadata": {},
   "outputs": [],
   "source": [
    "df_userid_1.head(None)"
   ]
  },
  {
   "cell_type": "code",
   "execution_count": null,
   "id": "69a9deeb",
   "metadata": {},
   "outputs": [],
   "source": [
    "df_userid_1.shape"
   ]
  },
  {
   "cell_type": "markdown",
   "id": "beb63563",
   "metadata": {},
   "source": [
    "## Q.10 You also need to provide some details about this user’s behavior. What basic stats can you provide based on the information you have?"
   ]
  },
  {
   "cell_type": "code",
   "execution_count": null,
   "id": "79ec7dc5",
   "metadata": {},
   "outputs": [],
   "source": [
    "df_userid_1.describe()"
   ]
  },
  {
   "cell_type": "code",
   "execution_count": null,
   "id": "eecf75af",
   "metadata": {},
   "outputs": [],
   "source": [
    "# First attempt to describe() did not include objects"
   ]
  },
  {
   "cell_type": "code",
   "execution_count": null,
   "id": "dc9a7e73",
   "metadata": {},
   "outputs": [],
   "source": [
    "# list of dtypes to include\n",
    "include = ['object', 'float', 'int']"
   ]
  },
  {
   "cell_type": "code",
   "execution_count": null,
   "id": "f0e0330d",
   "metadata": {},
   "outputs": [],
   "source": [
    "df_userid_1.describe(include=include)"
   ]
  },
  {
   "cell_type": "markdown",
   "id": "62bfe422",
   "metadata": {},
   "source": [
    "### Basic Stats on user_id 1:"
   ]
  },
  {
   "cell_type": "markdown",
   "id": "31067df3",
   "metadata": {},
   "source": [
    "### 1. Has placed 11 separate orders over the last 6 mos."
   ]
  },
  {
   "cell_type": "markdown",
   "id": "a1cc7762",
   "metadata": {},
   "source": [
    "### 2. Typically orders every 2-4 weeks."
   ]
  },
  {
   "cell_type": "markdown",
   "id": "c75e3f3b",
   "metadata": {},
   "source": [
    "### 3. Typically orders between 7am-9am."
   ]
  },
  {
   "cell_type": "markdown",
   "id": "2a2f3ca9",
   "metadata": {},
   "source": [
    "### 4. Only orders on Tuesday - Friday, never on Saturday - Monday."
   ]
  },
  {
   "cell_type": "code",
   "execution_count": null,
   "id": "1ba4e2cd",
   "metadata": {},
   "outputs": [],
   "source": [
    "# Path to prepared data folder"
   ]
  },
  {
   "cell_type": "code",
   "execution_count": null,
   "id": "67de2085",
   "metadata": {},
   "outputs": [],
   "source": [
    "path_prep = r'G:\\My Drive\\CareerFoundry\\Python Projects\\2023-10 Data Immersion Task 4.4\\02 Data\\Prepared Data'"
   ]
  },
  {
   "cell_type": "code",
   "execution_count": null,
   "id": "467cba50",
   "metadata": {},
   "outputs": [],
   "source": [
    "# Exporting df_ords_v2\n",
    "df_ords_v2.to_csv(os.path.join(path_prep, 'orders_wrangled.csv'))"
   ]
  },
  {
   "cell_type": "code",
   "execution_count": null,
   "id": "53fc2a36",
   "metadata": {},
   "outputs": [],
   "source": [
    "# Exporting df_dep_t_new\n",
    "df_dep_t_new.to_csv(os.path.join(path_prep, 'departments_wrangled.csv'))"
   ]
  },
  {
   "cell_type": "code",
   "execution_count": null,
   "id": "6c4fa78d",
   "metadata": {},
   "outputs": [],
   "source": []
  }
 ],
 "metadata": {
  "kernelspec": {
   "display_name": "Python 3 (ipykernel)",
   "language": "python",
   "name": "python3"
  },
  "language_info": {
   "codemirror_mode": {
    "name": "ipython",
    "version": 3
   },
   "file_extension": ".py",
   "mimetype": "text/x-python",
   "name": "python",
   "nbconvert_exporter": "python",
   "pygments_lexer": "ipython3",
   "version": "3.11.5"
  }
 },
 "nbformat": 4,
 "nbformat_minor": 5
}
