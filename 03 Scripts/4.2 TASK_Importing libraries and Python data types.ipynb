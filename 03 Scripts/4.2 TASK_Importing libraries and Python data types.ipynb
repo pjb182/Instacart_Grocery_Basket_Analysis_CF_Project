{
 "cells": [
  {
   "cell_type": "markdown",
   "id": "986179e4",
   "metadata": {},
   "source": [
    "# 01. Importing libraries"
   ]
  },
  {
   "cell_type": "code",
   "execution_count": 1,
   "id": "9a24ea74",
   "metadata": {},
   "outputs": [],
   "source": [
    "# Import libraries\n",
    "import pandas as pd\n",
    "import numpy as np\n",
    "import os"
   ]
  },
  {
   "cell_type": "markdown",
   "id": "dbccedbd",
   "metadata": {},
   "source": [
    "# 02. Working with Python data types"
   ]
  },
  {
   "cell_type": "markdown",
   "id": "ca71461e",
   "metadata": {},
   "source": [
    "## 1) Code 3 different ways of reaching a result of 100 by adding or subtracting numeric variables"
   ]
  },
  {
   "cell_type": "code",
   "execution_count": 5,
   "id": "2298ae35",
   "metadata": {},
   "outputs": [],
   "source": [
    "# 1\n",
    "x = 50"
   ]
  },
  {
   "cell_type": "code",
   "execution_count": 6,
   "id": "46a26d82",
   "metadata": {},
   "outputs": [
    {
     "data": {
      "text/plain": [
       "100"
      ]
     },
     "execution_count": 6,
     "metadata": {},
     "output_type": "execute_result"
    }
   ],
   "source": [
    "x + x"
   ]
  },
  {
   "cell_type": "code",
   "execution_count": 7,
   "id": "745d9c57",
   "metadata": {},
   "outputs": [],
   "source": [
    "# 2\n",
    "y = 143"
   ]
  },
  {
   "cell_type": "code",
   "execution_count": 8,
   "id": "a1a08840",
   "metadata": {},
   "outputs": [
    {
     "data": {
      "text/plain": [
       "100"
      ]
     },
     "execution_count": 8,
     "metadata": {},
     "output_type": "execute_result"
    }
   ],
   "source": [
    "y - 43"
   ]
  },
  {
   "cell_type": "code",
   "execution_count": 14,
   "id": "1b9094e2",
   "metadata": {},
   "outputs": [],
   "source": [
    "# 3\n",
    "z = 7"
   ]
  },
  {
   "cell_type": "code",
   "execution_count": 15,
   "id": "a0bfcbf1",
   "metadata": {},
   "outputs": [
    {
     "data": {
      "text/plain": [
       "100"
      ]
     },
     "execution_count": 15,
     "metadata": {},
     "output_type": "execute_result"
    }
   ],
   "source": [
    "y + z - x"
   ]
  },
  {
   "cell_type": "markdown",
   "id": "224d7a7f",
   "metadata": {},
   "source": [
    "## 2) Code 2 floating-point variables and divide them by each other"
   ]
  },
  {
   "cell_type": "code",
   "execution_count": 22,
   "id": "d2eb6a46",
   "metadata": {},
   "outputs": [],
   "source": [
    "a = 9.389"
   ]
  },
  {
   "cell_type": "code",
   "execution_count": 23,
   "id": "432a960d",
   "metadata": {},
   "outputs": [],
   "source": [
    "h = 4.918"
   ]
  },
  {
   "cell_type": "code",
   "execution_count": 24,
   "id": "f727e096",
   "metadata": {},
   "outputs": [
    {
     "data": {
      "text/plain": [
       "1.909109394062627"
      ]
     },
     "execution_count": 24,
     "metadata": {},
     "output_type": "execute_result"
    }
   ],
   "source": [
    "a / h"
   ]
  },
  {
   "cell_type": "markdown",
   "id": "94617099",
   "metadata": {},
   "source": [
    "## 3) Construct a short word made of separate strings"
   ]
  },
  {
   "cell_type": "code",
   "execution_count": 19,
   "id": "410d705a",
   "metadata": {},
   "outputs": [],
   "source": [
    "c = 'con'"
   ]
  },
  {
   "cell_type": "code",
   "execution_count": 20,
   "id": "01b18b36",
   "metadata": {},
   "outputs": [],
   "source": [
    "d = 'done'"
   ]
  },
  {
   "cell_type": "code",
   "execution_count": 21,
   "id": "b1fe0a54",
   "metadata": {},
   "outputs": [
    {
     "data": {
      "text/plain": [
       "'condone'"
      ]
     },
     "execution_count": 21,
     "metadata": {},
     "output_type": "execute_result"
    }
   ],
   "source": [
    "c + d"
   ]
  },
  {
   "cell_type": "markdown",
   "id": "3ab4f251",
   "metadata": {},
   "source": [
    "## 4) Construct 2 short sentences made of separate strings"
   ]
  },
  {
   "cell_type": "code",
   "execution_count": 38,
   "id": "10795194",
   "metadata": {},
   "outputs": [],
   "source": [
    "e = 'A and H '"
   ]
  },
  {
   "cell_type": "code",
   "execution_count": 39,
   "id": "afd39714",
   "metadata": {},
   "outputs": [],
   "source": [
    "f = 'stand for '"
   ]
  },
  {
   "cell_type": "code",
   "execution_count": 34,
   "id": "49ec34bf",
   "metadata": {},
   "outputs": [],
   "source": [
    "g = 'my children, '"
   ]
  },
  {
   "cell_type": "code",
   "execution_count": 40,
   "id": "55984414",
   "metadata": {},
   "outputs": [],
   "source": [
    "i = 'Austin and Hope. '"
   ]
  },
  {
   "cell_type": "code",
   "execution_count": 36,
   "id": "bc822c75",
   "metadata": {},
   "outputs": [],
   "source": [
    "j = 'The values '"
   ]
  },
  {
   "cell_type": "code",
   "execution_count": 37,
   "id": "cd664306",
   "metadata": {},
   "outputs": [],
   "source": [
    "k = 'represent their ages.'"
   ]
  },
  {
   "cell_type": "code",
   "execution_count": 41,
   "id": "f1b6f260",
   "metadata": {},
   "outputs": [
    {
     "data": {
      "text/plain": [
       "'A and H stand for my children, Austin and Hope. The values represent their ages.'"
      ]
     },
     "execution_count": 41,
     "metadata": {},
     "output_type": "execute_result"
    }
   ],
   "source": [
    "e + f + g + i + j + k"
   ]
  },
  {
   "cell_type": "markdown",
   "id": "4adb0084",
   "metadata": {},
   "source": [
    "# Bonus - At the bottom of your file, include a command that makes a string appear 100 times"
   ]
  },
  {
   "cell_type": "code",
   "execution_count": 44,
   "id": "61436fc0",
   "metadata": {},
   "outputs": [],
   "source": [
    " # original opening credits chalkboard gag on The Simpsons"
   ]
  },
  {
   "cell_type": "code",
   "execution_count": 42,
   "id": "60ea85fa",
   "metadata": {},
   "outputs": [],
   "source": [
    "s = 'Iwillnotwastechalk.'"
   ]
  },
  {
   "cell_type": "code",
   "execution_count": 43,
   "id": "4309f5a8",
   "metadata": {},
   "outputs": [
    {
     "data": {
      "text/plain": [
       "'Iwillnotwastechalk.Iwillnotwastechalk.Iwillnotwastechalk.Iwillnotwastechalk.Iwillnotwastechalk.Iwillnotwastechalk.Iwillnotwastechalk.Iwillnotwastechalk.Iwillnotwastechalk.Iwillnotwastechalk.Iwillnotwastechalk.Iwillnotwastechalk.Iwillnotwastechalk.Iwillnotwastechalk.Iwillnotwastechalk.Iwillnotwastechalk.Iwillnotwastechalk.Iwillnotwastechalk.Iwillnotwastechalk.Iwillnotwastechalk.Iwillnotwastechalk.Iwillnotwastechalk.Iwillnotwastechalk.Iwillnotwastechalk.Iwillnotwastechalk.Iwillnotwastechalk.Iwillnotwastechalk.Iwillnotwastechalk.Iwillnotwastechalk.Iwillnotwastechalk.Iwillnotwastechalk.Iwillnotwastechalk.Iwillnotwastechalk.Iwillnotwastechalk.Iwillnotwastechalk.Iwillnotwastechalk.Iwillnotwastechalk.Iwillnotwastechalk.Iwillnotwastechalk.Iwillnotwastechalk.Iwillnotwastechalk.Iwillnotwastechalk.Iwillnotwastechalk.Iwillnotwastechalk.Iwillnotwastechalk.Iwillnotwastechalk.Iwillnotwastechalk.Iwillnotwastechalk.Iwillnotwastechalk.Iwillnotwastechalk.Iwillnotwastechalk.Iwillnotwastechalk.Iwillnotwastechalk.Iwillnotwastechalk.Iwillnotwastechalk.Iwillnotwastechalk.Iwillnotwastechalk.Iwillnotwastechalk.Iwillnotwastechalk.Iwillnotwastechalk.Iwillnotwastechalk.Iwillnotwastechalk.Iwillnotwastechalk.Iwillnotwastechalk.Iwillnotwastechalk.Iwillnotwastechalk.Iwillnotwastechalk.Iwillnotwastechalk.Iwillnotwastechalk.Iwillnotwastechalk.Iwillnotwastechalk.Iwillnotwastechalk.Iwillnotwastechalk.Iwillnotwastechalk.Iwillnotwastechalk.Iwillnotwastechalk.Iwillnotwastechalk.Iwillnotwastechalk.Iwillnotwastechalk.Iwillnotwastechalk.Iwillnotwastechalk.Iwillnotwastechalk.Iwillnotwastechalk.Iwillnotwastechalk.Iwillnotwastechalk.Iwillnotwastechalk.Iwillnotwastechalk.Iwillnotwastechalk.Iwillnotwastechalk.Iwillnotwastechalk.Iwillnotwastechalk.Iwillnotwastechalk.Iwillnotwastechalk.Iwillnotwastechalk.Iwillnotwastechalk.Iwillnotwastechalk.Iwillnotwastechalk.Iwillnotwastechalk.Iwillnotwastechalk.Iwillnotwastechalk.'"
      ]
     },
     "execution_count": 43,
     "metadata": {},
     "output_type": "execute_result"
    }
   ],
   "source": [
    "s * 100"
   ]
  },
  {
   "cell_type": "code",
   "execution_count": null,
   "id": "d1c8ccd0",
   "metadata": {},
   "outputs": [],
   "source": []
  }
 ],
 "metadata": {
  "kernelspec": {
   "display_name": "Python 3 (ipykernel)",
   "language": "python",
   "name": "python3"
  },
  "language_info": {
   "codemirror_mode": {
    "name": "ipython",
    "version": 3
   },
   "file_extension": ".py",
   "mimetype": "text/x-python",
   "name": "python",
   "nbconvert_exporter": "python",
   "pygments_lexer": "ipython3",
   "version": "3.11.5"
  }
 },
 "nbformat": 4,
 "nbformat_minor": 5
}
