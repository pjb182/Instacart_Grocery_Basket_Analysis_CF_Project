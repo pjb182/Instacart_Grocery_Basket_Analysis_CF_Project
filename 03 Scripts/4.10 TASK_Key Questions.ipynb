{
 "cells": [
  {
   "cell_type": "markdown",
   "id": "b973a53e",
   "metadata": {},
   "source": [
    "# KEY QUESTIONS ANSWERED"
   ]
  },
  {
   "cell_type": "markdown",
   "id": "9e8a2dc0",
   "metadata": {},
   "source": [
    "<a id='0'></a> <br>\n",
    " # Table of Contents  \n",
    " \n",
    "[Import data and libraries](#0.1)     \n",
    "[Key Questions](#0.2) \n",
    "\n",
    "1. [Busiest Days and Times](#1)\n",
    "    1. [Busiest days of the week](#2)\n",
    "    1. [Busiest hours of the day](#3)\n",
    "1. [Highest Revenue Times](#4)\n",
    "1. [Price Range Groupings](#5)\n",
    "1. [Department Popularity](#6)\n",
    "1. [Ordering Behaviors](#7)\n",
    "    1. [Brand Loyalty Distribution](#8)\n",
    "    1. [Brand Loyalty Ordering Habits](#9)\n",
    "        1. [Loyalty and days_since_prior_order](#10)\n",
    "        1. [Loyalty and ave. price per product](#11)\n",
    "        1. [Loyalty and department](#12)\n",
    "        1. [Loyalty and hour_of_day/day_of_week](#13)\n",
    "    1. [Regional Ordering Habits](#14)\n",
    "        1. [orders_day_of_week](#15)\n",
    "        1. [order_hour_of_day](#16)\n",
    "        1. [prior_order_median](#17)\n",
    "        1. [most_ordered_product](#18)\n",
    "        1. [order_total](#19)\n",
    "        1. [max_order](#20)\n",
    "        1. [Price_range](#21)\n",
    "        1. [Loyalty_flag](#22)\n",
    "        1. [Spending_flag](#23)\n",
    "        1. [Order_frequency_flag](#24)\n",
    "    1. [Age and Family Status](#25)\n",
    "        1. [Most Frequent Day](#26)\n",
    "        1. [Most Frequent Hour](#27)\n",
    "        1. [Frequency of Orders](#28)\n",
    "        1. [Avg. Number of Orders](#29)\n",
    "        1. [Avg. Order Total](#30)\n",
    "        1. [Avg. Price Per Item](#31)\n",
    "    1. [Demographics](#32)\n",
    "    1. [Customer Profile Ordering Habits](#33)\n",
    "        1. [Price per Item](#34)\n",
    "        1. [Products](#35)\n",
    "        1. [Department](#36)\n",
    "        1. [Orders_day_of_week](#37)\n",
    "        1. [Order_hour_of_day](#38)\n",
    "        1. [Days between orders](#39)\n",
    "        1. [Order Total](#40)\n",
    "        1. [Max_order](#41)"
   ]
  },
  {
   "cell_type": "markdown",
   "id": "587f6e04",
   "metadata": {},
   "source": [
    "<a id='0.1'></a> <br>\n",
    "# Import data and libraries"
   ]
  },
  {
   "cell_type": "code",
   "execution_count": null,
   "id": "0f7074fe",
   "metadata": {},
   "outputs": [],
   "source": [
    "# Import libraries\n",
    "\n",
    "import pandas as pd\n",
    "import numpy as np\n",
    "import os\n",
    "import matplotlib.pyplot as plt\n",
    "import matplotlib.patches as mpatches\n",
    "import seaborn as sns\n",
    "import scipy\n",
    "import plotly.express as px\n",
    "import plotly.offline as py\n",
    "import plotly.graph_objs as go\n",
    "from plotly.offline import init_notebook_mode, iplot, plot\n",
    "from plotly import tools\n",
    "from plotly.subplots import make_subplots"
   ]
  },
  {
   "cell_type": "code",
   "execution_count": null,
   "id": "84e89df8",
   "metadata": {},
   "outputs": [],
   "source": [
    "# Create path\n",
    "\n",
    "path = r'G:\\My Drive\\CareerFoundry\\Python Projects\\2023-10 Instacart Basket Analysis'"
   ]
  },
  {
   "cell_type": "code",
   "execution_count": null,
   "id": "a03fcf86",
   "metadata": {},
   "outputs": [],
   "source": [
    "# Import data\n",
    "\n",
    "ict_final_df = pd.read_pickle(os.path.join(path, '02 Data', 'Prepared Data', 'ict_final_df.pkl'))"
   ]
  },
  {
   "cell_type": "code",
   "execution_count": null,
   "id": "ae5ab531",
   "metadata": {},
   "outputs": [],
   "source": [
    "ict_final_df.shape"
   ]
  },
  {
   "cell_type": "code",
   "execution_count": null,
   "id": "1d71fb8f",
   "metadata": {},
   "outputs": [],
   "source": [
    "# shows all columns\n",
    "\n",
    "pd.set_option('display.max_columns', None)"
   ]
  },
  {
   "cell_type": "code",
   "execution_count": null,
   "id": "ff0c835f",
   "metadata": {},
   "outputs": [],
   "source": [
    "# shows all rows\n",
    "\n",
    "pd.set_option('display.max_rows', None)"
   ]
  },
  {
   "cell_type": "code",
   "execution_count": null,
   "id": "25d32a51",
   "metadata": {
    "scrolled": true
   },
   "outputs": [],
   "source": [
    "ict_final_df.head()"
   ]
  },
  {
   "cell_type": "code",
   "execution_count": null,
   "id": "1ce54046",
   "metadata": {},
   "outputs": [],
   "source": [
    "# Change outliers to NaN to correct skew of distribution\n",
    "\n",
    "ict_final_df.loc[ict_final_df['prices'] >100, 'prices'] = np.nan"
   ]
  },
  {
   "cell_type": "markdown",
   "id": "fe9f4ebb",
   "metadata": {},
   "source": [
    "<a id='0.2'></a> <br>\n",
    "# Key Questions"
   ]
  },
  {
   "cell_type": "markdown",
   "id": "2fb34c92",
   "metadata": {},
   "source": [
    "<a id='1'></a> <br>\n",
    "# 1. Busiest Days and Times\n",
    "# Days and times with most orders?\n",
    "<a id='2'></a> <br>\n",
    "> ## A. Busiest days of the week"
   ]
  },
  {
   "cell_type": "code",
   "execution_count": null,
   "id": "ebbcff69",
   "metadata": {},
   "outputs": [],
   "source": [
    "# creates a ct of order_ids and dow order\n",
    "\n",
    "ct_busiest_dow = pd.crosstab(ict_final_df['orders_day_of_week'], ict_final_df['order_id'])"
   ]
  },
  {
   "cell_type": "code",
   "execution_count": null,
   "id": "ab00aaa8",
   "metadata": {},
   "outputs": [],
   "source": [
    "# check output\n",
    "\n",
    "ct_busiest_dow"
   ]
  },
  {
   "cell_type": "code",
   "execution_count": null,
   "id": "5d7beee6",
   "metadata": {},
   "outputs": [],
   "source": [
    "# changes all data greater than 0 to 1 - I only need one instance of the order_id for each dow\n",
    "\n",
    "ct_busiest_dow[ct_busiest_dow > 0] = 1"
   ]
  },
  {
   "cell_type": "code",
   "execution_count": null,
   "id": "9bfabfac",
   "metadata": {},
   "outputs": [],
   "source": [
    "# check output\n",
    "\n",
    "ct_busiest_dow"
   ]
  },
  {
   "cell_type": "code",
   "execution_count": null,
   "id": "08c52a24",
   "metadata": {},
   "outputs": [],
   "source": [
    "# create Total column\n",
    "\n",
    "ct_busiest_dow['Total'] = ct_busiest_dow.sum(axis=1)"
   ]
  },
  {
   "cell_type": "code",
   "execution_count": null,
   "id": "1d02028e",
   "metadata": {},
   "outputs": [],
   "source": [
    "# check output\n",
    "\n",
    "ct_busiest_dow"
   ]
  },
  {
   "cell_type": "code",
   "execution_count": null,
   "id": "db8b7c14",
   "metadata": {},
   "outputs": [],
   "source": [
    "# Remove all columns except 'Total\n",
    "\n",
    "ct_busiest_dow = ct_busiest_dow[['Total']]"
   ]
  },
  {
   "cell_type": "code",
   "execution_count": null,
   "id": "1877f051",
   "metadata": {},
   "outputs": [],
   "source": [
    "# check output\n",
    "\n",
    "ct_busiest_dow"
   ]
  },
  {
   "cell_type": "code",
   "execution_count": null,
   "id": "6c68bc0f",
   "metadata": {},
   "outputs": [],
   "source": [
    "# create df for easy manipulation\n",
    "# create data\n",
    "\n",
    "data = {'Day': ['Saturday', 'Sunday', 'Monday', 'Tuesday', 'Wednesday', 'Thursday', 'Friday'], \n",
    "        'Count': [557745, 556679, 441929, 412371, 401190, 425943, 418828]}"
   ]
  },
  {
   "cell_type": "code",
   "execution_count": null,
   "id": "a03b59b0",
   "metadata": {},
   "outputs": [],
   "source": [
    "# create df\n",
    "\n",
    "df_opm_for_bar = pd.DataFrame(data)"
   ]
  },
  {
   "cell_type": "code",
   "execution_count": null,
   "id": "b0875eba",
   "metadata": {},
   "outputs": [],
   "source": [
    "# check output\n",
    "\n",
    "df_opm_for_bar"
   ]
  },
  {
   "cell_type": "code",
   "execution_count": null,
   "id": "2c3d993d",
   "metadata": {},
   "outputs": [],
   "source": [
    "norm = plt.Normalize(0, df_opm_for_bar['Count'].values.max()) # uses values from 'count' col. as the color range\n",
    "colors = plt.cm.Blues(norm(df_opm_for_bar['Count'].values)) # creates a blue color map\n",
    "\n",
    "bar_busiest_days_of_week = df_opm_for_bar.sort_values(by='Count', ascending=False).plot.bar(x='Day', \n",
    "                                                                                            y='Count', \n",
    "                                                                                            figsize=(8,6), \n",
    "                                                                                            legend=False, \n",
    "                                                                                            color=colors)\n",
    "for count in bar_busiest_days_of_week.containers:\n",
    "    \n",
    "    # adds commas\n",
    "    for c in bar_busiest_days_of_week.containers:\n",
    "        bar_busiest_days_of_week.bar_label(c, fmt='{:,.0f}', \n",
    "                                           fontweight='bold',\n",
    "                                           fontsize=10)\n",
    "\n",
    "plt.yticks([]) # removes yticks\n",
    "plt.xticks(rotation=0) # rotates xtick labels to neutral position\n",
    "plt.ylabel('Number of Orders')\n",
    "plt.xlabel('') # removes x axis label\n",
    "plt.margins(0.2) # adds 20% whitespace to margins to keep labels inside the box\n",
    "plt.title('Busiest Days of the Week', fontsize=14, fontweight='bold')\n",
    "\n",
    "# Export chart to the visualizations folder using savefig() function\n",
    "\n",
    "bar_busiest_days_of_week.figure.savefig(os.path.join(path, '04 Analysis','Visualizations', 'bar_busiest_days_of_week.png'), \n",
    "                                        bbox_inches='tight') # keeps entire fig in the png"
   ]
  },
  {
   "cell_type": "markdown",
   "id": "b1b4bd80",
   "metadata": {},
   "source": [
    "<a id='3'></a> <br>\n",
    "> ## B. Busiest hours of the day"
   ]
  },
  {
   "cell_type": "code",
   "execution_count": null,
   "id": "9b155d14",
   "metadata": {},
   "outputs": [],
   "source": [
    "# creates a df of order_ids and hod order\n",
    "\n",
    "df_busiest_hod = ict_final_df[['order_id', 'order_hour_of_day']].copy() # use copy() to avoid 'copy of a slice' error"
   ]
  },
  {
   "cell_type": "code",
   "execution_count": null,
   "id": "cbb01ec8",
   "metadata": {},
   "outputs": [],
   "source": [
    "# check output\n",
    "\n",
    "df_busiest_hod"
   ]
  },
  {
   "cell_type": "code",
   "execution_count": null,
   "id": "47033394",
   "metadata": {},
   "outputs": [],
   "source": [
    "# Drop duplicates from one row of df - I only need one instance of the hod for each order_id\n",
    "\n",
    "df_busiest_hod.drop_duplicates(subset=['order_id'], keep='first', inplace=True)"
   ]
  },
  {
   "cell_type": "code",
   "execution_count": null,
   "id": "366afa9d",
   "metadata": {},
   "outputs": [],
   "source": [
    "# check output\n",
    "\n",
    "df_busiest_hod"
   ]
  },
  {
   "cell_type": "code",
   "execution_count": null,
   "id": "daf9b93d",
   "metadata": {},
   "outputs": [],
   "source": [
    "df_busiest_hod = df_busiest_hod.drop('order_id', axis=1)"
   ]
  },
  {
   "cell_type": "code",
   "execution_count": null,
   "id": "97fa6f9d",
   "metadata": {},
   "outputs": [],
   "source": [
    "# check output\n",
    "\n",
    "df_busiest_hod"
   ]
  },
  {
   "cell_type": "code",
   "execution_count": null,
   "id": "0520395a",
   "metadata": {},
   "outputs": [],
   "source": [
    "# create histogram of busiest hod\n",
    "\n",
    "fig, ax = plt.subplots(figsize=(10,4), facecolor='w')\n",
    "cnts, values, bars = ax.hist(df_busiest_hod, edgecolor='k', bins=np.arange(-0.5, 24), # one bin per hour\n",
    "                             rwidth=0.85) \n",
    "\n",
    "cmap = plt.cm.PuBu # creates the purple/blue colormap\n",
    "\n",
    "for i, (cnt, value, bar) in enumerate(zip(cnts, values, bars)):\n",
    "    bar.set_facecolor(cmap(cnt/cnts.max())) # applies color to each bar based on y axis values\n",
    "\n",
    "plt.xticks(np.arange(0, 24)) # makes all ticks visible\n",
    "plt.xlabel('Time of Day \\n(0=midnight, 23=11pm)') # \\n wraps text\n",
    "plt.title('Busiest Hour of the Day', fontsize=18)\n",
    "\n",
    "# Export chart to the visualizations folder using savefig() function\n",
    "\n",
    "fig.figure.savefig(os.path.join(path, '04 Analysis','Visualizations', 'hist_busiest_hour_of_day.png'), \n",
    "                   bbox_inches='tight') # keeps entire fig in the png"
   ]
  },
  {
   "cell_type": "markdown",
   "id": "9ac811f0",
   "metadata": {},
   "source": [
    "### Analysis shows that most users place orders between 9am and 5pm, while the least amount of orders take place between 12am and 6am."
   ]
  },
  {
   "cell_type": "markdown",
   "id": "19df716c",
   "metadata": {},
   "source": [
    "<a id='4'></a> <br>\n",
    "# 2. Highest Revenue Times\n",
    "# What time of day do people spend the most money?"
   ]
  },
  {
   "cell_type": "code",
   "execution_count": null,
   "id": "108c2c42",
   "metadata": {},
   "outputs": [],
   "source": [
    "# First change outliers to NaN to correct skew of distribution\n",
    "\n",
    "ict_final_df.loc[ict_final_df['prices'] >100, 'prices'] = np.nan"
   ]
  },
  {
   "cell_type": "code",
   "execution_count": null,
   "id": "c83120da",
   "metadata": {},
   "outputs": [],
   "source": [
    "# create sample data to save time and memory"
   ]
  },
  {
   "cell_type": "code",
   "execution_count": null,
   "id": "846ae2fb",
   "metadata": {},
   "outputs": [],
   "source": [
    "# Create random list\n",
    "\n",
    "np.random.seed(4)\n",
    "dev = np.random.rand(len(ict_final_df)) <= 0.7"
   ]
  },
  {
   "cell_type": "code",
   "execution_count": null,
   "id": "eba57b86",
   "metadata": {},
   "outputs": [],
   "source": [
    "# check output\n",
    "\n",
    "dev"
   ]
  },
  {
   "cell_type": "code",
   "execution_count": null,
   "id": "bd88a64d",
   "metadata": {},
   "outputs": [],
   "source": [
    "# Store 30% of the sample in the small and 70% in big\n",
    "\n",
    "big = ict_final_df[dev]\n",
    "small = ict_final_df[~dev]"
   ]
  },
  {
   "cell_type": "code",
   "execution_count": null,
   "id": "b3385eda",
   "metadata": {},
   "outputs": [],
   "source": [
    "# Check results by adding big and small df to see if their combined length = the entire df length\n",
    "\n",
    "len(ict_final_df)"
   ]
  },
  {
   "cell_type": "code",
   "execution_count": null,
   "id": "98a0adc4",
   "metadata": {},
   "outputs": [],
   "source": [
    "len(big) + len(small)"
   ]
  },
  {
   "cell_type": "code",
   "execution_count": null,
   "id": "505c1838",
   "metadata": {},
   "outputs": [],
   "source": [
    "# Remove unnecessary columns \n",
    "\n",
    "small = small[['order_hour_of_day', 'prices']]\n",
    "big = big[['order_hour_of_day', 'prices']]"
   ]
  },
  {
   "cell_type": "code",
   "execution_count": null,
   "id": "19db0eb3",
   "metadata": {},
   "outputs": [],
   "source": [
    "# check output\n",
    "\n",
    "small"
   ]
  },
  {
   "cell_type": "code",
   "execution_count": null,
   "id": "602c4ba0",
   "metadata": {},
   "outputs": [],
   "source": [
    "big"
   ]
  },
  {
   "cell_type": "code",
   "execution_count": null,
   "id": "63828d82",
   "metadata": {},
   "outputs": [],
   "source": [
    "# aggregate prices for each hod on both dfs (this will give total spend)\n",
    "\n",
    "small = small.groupby('order_hour_of_day').agg({'prices': 'sum'})\n",
    "big = big.groupby('order_hour_of_day').agg({'prices': 'sum'})"
   ]
  },
  {
   "cell_type": "code",
   "execution_count": null,
   "id": "1baf01ff",
   "metadata": {},
   "outputs": [],
   "source": [
    "# check output\n",
    "\n",
    "small"
   ]
  },
  {
   "cell_type": "code",
   "execution_count": null,
   "id": "b2e114ff",
   "metadata": {},
   "outputs": [],
   "source": [
    "big"
   ]
  },
  {
   "cell_type": "code",
   "execution_count": null,
   "id": "be5f3c4c",
   "metadata": {
    "scrolled": true
   },
   "outputs": [],
   "source": [
    "# create simple line chart of small and big to confirm they are a match\n",
    "\n",
    "sns.lineplot(data = small, x = 'order_hour_of_day', y = 'prices')"
   ]
  },
  {
   "cell_type": "code",
   "execution_count": null,
   "id": "34001c65",
   "metadata": {},
   "outputs": [],
   "source": [
    "sns.lineplot(data = big, x = 'order_hour_of_day', y = 'prices')"
   ]
  },
  {
   "cell_type": "markdown",
   "id": "90b49656",
   "metadata": {},
   "source": [
    "## - Line charts are a match for distribution"
   ]
  },
  {
   "cell_type": "code",
   "execution_count": null,
   "id": "2d02b0f3",
   "metadata": {},
   "outputs": [],
   "source": [
    "# create more readable line chart\n",
    "\n",
    "sns.set(rc={'figure.figsize':(10, 6)}) # changes size of figure\n",
    "\n",
    "line_revenue_hod = sns.lineplot(data = small, x = 'order_hour_of_day', y = 'prices', \n",
    "                                marker='o', # adds a marker (dot) for each data point\n",
    "                                markersize=5, # adjusts the size of the dot\n",
    "                                markerfacecolor='darkblue') # changes the color of the dot\n",
    "\n",
    "plt.title('Total Revenue by Hour of Day')\n",
    "plt.xlabel('Time of Day \\n(0=midnight, 23=11pm)') # \\n wraps text\n",
    "plt.xticks(np.arange(0, 24)) # makes all ticks visible\n",
    "plt.ylabel('Revenue')\n",
    "\n",
    "# Export chart to the visualizations folder using savefig() function\n",
    "\n",
    "line_revenue_hod.figure.savefig(os.path.join(path, '04 Analysis','Visualizations', 'line_rev_hod.png'), \n",
    "                                bbox_inches='tight') # keeps entire fig in the png"
   ]
  },
  {
   "cell_type": "markdown",
   "id": "8b6b0a2e",
   "metadata": {},
   "source": [
    "## -- Note: This is sample data - Revenue is not accurate but distribution of hourly spend is."
   ]
  },
  {
   "cell_type": "markdown",
   "id": "422f4593",
   "metadata": {},
   "source": [
    "<a id='5'></a> <br>\n",
    "# 3. Price Range Groupings\n",
    "# Create simpler price range groupings."
   ]
  },
  {
   "cell_type": "code",
   "execution_count": null,
   "id": "daeffe34",
   "metadata": {},
   "outputs": [],
   "source": [
    "# Change outliers to NaN to correct skew of distribution\n",
    "\n",
    "ict_final_df.loc[ict_final_df['prices'] >100, 'prices'] = np.nan"
   ]
  },
  {
   "cell_type": "code",
   "execution_count": null,
   "id": "d26366ef",
   "metadata": {},
   "outputs": [],
   "source": [
    "# Check if replacement was successful\n",
    "\n",
    "ict_final_df['prices'].max()"
   ]
  },
  {
   "cell_type": "code",
   "execution_count": null,
   "id": "4f4ad2e2",
   "metadata": {},
   "outputs": [],
   "source": [
    "# create histogram of 'prices' with finer granularity\n",
    "\n",
    "hist_prices = ict_final_df['prices'].plot.hist(bins = 70)\n",
    "\n",
    "plt.title('Prices Frequency')\n",
    "\n",
    "# Export chart to the visualizations folder using savefig() function\n",
    "\n",
    "hist_prices.figure.savefig(os.path.join(path, '04 Analysis','Visualizations', 'hist_prices.png'), \n",
    "                                bbox_inches='tight') # keeps entire fig in the png"
   ]
  },
  {
   "cell_type": "code",
   "execution_count": null,
   "id": "68d36b0a",
   "metadata": {},
   "outputs": [],
   "source": [
    "# rename order hour of day x column\n",
    "\n",
    "ict_final_df = ict_final_df.rename(columns={'price_range_loc': 'price_range'})"
   ]
  },
  {
   "cell_type": "code",
   "execution_count": null,
   "id": "e5cf6a00",
   "metadata": {},
   "outputs": [],
   "source": [
    "# check output\n",
    "\n",
    "ict_final_df.head()"
   ]
  },
  {
   "cell_type": "markdown",
   "id": "fad5bc31",
   "metadata": {},
   "source": [
    "#### -- Price Range variable previously created\n",
    "       - High-range product: >15\n",
    "       - Mid-range product: >=5, <15\n",
    "       - Low-range product: <5"
   ]
  },
  {
   "cell_type": "code",
   "execution_count": null,
   "id": "25005aa9",
   "metadata": {},
   "outputs": [],
   "source": [
    "# creates bar chart of price_range to show \n",
    "\n",
    "barh_price_range = ict_final_df['price_range'].value_counts(ascending=True).plot.barh(legend=None, edgecolor='black')\n",
    "for price_range in barh_price_range.containers:\n",
    "    \n",
    "    # adds commas\n",
    "    for c in barh_price_range.containers:\n",
    "        barh_price_range.bar_label(c, fmt=' {:,.0f}', fontstyle='italic')\n",
    "        \n",
    "    # adds 20% whitespace to margins to keep labels inside the box\n",
    "    barh_price_range.margins(x=0.25)\n",
    "\n",
    "plt.xlabel('Count', fontsize=12, fontweight='bold')\n",
    "plt.ylabel('Price Ranges', fontsize=12, fontweight='bold')\n",
    "plt.title('Total Items Purchased by Price Range', fontsize=14, fontweight='bold')\n",
    "\n",
    "# Export chart to the visualizations folder using savefig() function\n",
    "\n",
    "barh_price_range.figure.savefig(os.path.join(path, '04 Analysis','Visualizations', 'barh_price_range.png'), \n",
    "                                bbox_inches='tight') # keeps entire fig in the png"
   ]
  },
  {
   "cell_type": "markdown",
   "id": "6849f643",
   "metadata": {},
   "source": [
    "<a id='6'></a> <br>\n",
    "# 4. Department Popularity\n",
    "# Which departments have the highest frequency of product orders?"
   ]
  },
  {
   "cell_type": "code",
   "execution_count": null,
   "id": "791c82c5",
   "metadata": {},
   "outputs": [],
   "source": [
    "# creates bar graph of departments\n",
    "\n",
    "barh_dep_distr = ict_final_df['department'].value_counts().sort_values().plot.barh(figsize=(9, 9), linewidth=1, edgecolor='black')\n",
    "for department in barh_dep_distr.containers:\n",
    "    \n",
    "    # adds commas\n",
    "    for c in barh_dep_distr.containers:\n",
    "        barh_dep_distr.bar_label(c, fmt=' {:,.0f}', fontweight='medium', fontsize=12)\n",
    "\n",
    "# adds 20% whitespace to margins to keep labels inside the box\n",
    "barh_dep_distr.margins(x=0.2, y=0.3)\n",
    "\n",
    "plt.xlabel('Units Sold (Millions)', fontsize=12, fontweight='bold')\n",
    "plt.ylabel('Departments', fontsize=12, fontweight='bold')\n",
    "plt.title('Total Number of Producst Sold by Department', fontsize=14, fontweight='bold')\n",
    "\n",
    "plt.xticks(rotation = 360)\n",
    "\n",
    "# Export chart to the visualizations folder using savefig() function\n",
    "\n",
    "barh_dep_distr.figure.savefig(os.path.join(path, '04 Analysis','Visualizations', 'barh_dep_distr.png'), \n",
    "                                bbox_inches='tight') # keeps entire fig in the png"
   ]
  },
  {
   "cell_type": "markdown",
   "id": "877e3cbd",
   "metadata": {},
   "source": [
    "<a id='7'></a> <br>\n",
    "# 5. Ordering Behaviors"
   ]
  },
  {
   "cell_type": "code",
   "execution_count": null,
   "id": "a4832eed",
   "metadata": {},
   "outputs": [],
   "source": [
    "# creates a df of brand loyalty, region, fam status, age, income, profile, ord freq., user id only\n",
    "\n",
    "ic_df = ict_final_df[['user_id','customer_profile', 'region', 'age', 'income', 'fam_status', 'loyalty_flag', 'order_freq_flag']].copy()"
   ]
  },
  {
   "cell_type": "code",
   "execution_count": null,
   "id": "a32972e1",
   "metadata": {},
   "outputs": [],
   "source": [
    "ic_df.shape"
   ]
  },
  {
   "cell_type": "code",
   "execution_count": null,
   "id": "bed7f2e0",
   "metadata": {},
   "outputs": [],
   "source": [
    "ic_df.head()"
   ]
  },
  {
   "cell_type": "code",
   "execution_count": null,
   "id": "d0e27927",
   "metadata": {},
   "outputs": [],
   "source": [
    "ic_df.tail()"
   ]
  },
  {
   "cell_type": "code",
   "execution_count": null,
   "id": "8e8ee857",
   "metadata": {},
   "outputs": [],
   "source": [
    "# remove all dupes\n",
    "\n",
    "ic_df = ic_df.drop_duplicates()\n",
    "\n",
    "ic_df.shape"
   ]
  },
  {
   "cell_type": "markdown",
   "id": "b57ea50a",
   "metadata": {},
   "source": [
    "<a id='8'></a> <br>\n",
    "> ## A. Brand Loyalty Distribution\n",
    "> ## Distribution among users in regards to their brand loyalty"
   ]
  },
  {
   "cell_type": "code",
   "execution_count": null,
   "id": "ebfd7f44",
   "metadata": {
    "scrolled": true
   },
   "outputs": [],
   "source": [
    "# creates bar chart of loyalty_flag\n",
    "\n",
    "loyal_patch = mpatches.Patch(color='lightgray', label='Loyal (>40)')\n",
    "new_patch = mpatches.Patch(color='cornflowerblue', label='New (<=10)')\n",
    "regular_patch = mpatches.Patch(color='orangered', label='Regular (11-40)')\n",
    "\n",
    "\n",
    "bar_loyalty_flag = ic_df['loyalty_flag'].value_counts(ascending=True).plot.bar(edgecolor='black', color=['lightgray', 'cornflowerblue', 'orangered'])\n",
    "for loyalty_flag in bar_loyalty_flag.containers:\n",
    "    \n",
    "    # adds commas\n",
    "    for c in bar_loyalty_flag.containers:\n",
    "        bar_loyalty_flag.bar_label(c, fmt=' {:,.0f}', fontstyle='italic')\n",
    "        \n",
    "    # adds 20% whitespace to margins to keep labels inside the box\n",
    "    bar_loyalty_flag.margins(x=0.25)\n",
    "\n",
    "plt.xlabel('Brand Loyalty Level', fontsize=12, fontweight='bold')\n",
    "plt.xticks(rotation=0)\n",
    "plt.ylabel('Count', fontsize=12, fontweight='bold')\n",
    "plt.title('Distribution of Customer Loyalty \\nby Number of Orders', fontsize=14, fontweight='bold')\n",
    "plt.legend(handles=[loyal_patch, new_patch, regular_patch])\n",
    "\n",
    "# Export chart to the visualizations folder using savefig() function\n",
    "\n",
    "bar_loyalty_flag.figure.savefig(os.path.join(path, '04 Analysis','Visualizations', 'bar_loyalty_flag.png'), \n",
    "                                bbox_inches='tight') # keeps entire fig in the png"
   ]
  },
  {
   "cell_type": "markdown",
   "id": "dc762fcd",
   "metadata": {},
   "source": [
    "<a id='9'></a> <br>\n",
    "> ## B. Brand Loyalty Ordering Habits\n",
    "> ## Are there differences in ordering habits based on a customer's loyalty status?"
   ]
  },
  {
   "cell_type": "code",
   "execution_count": null,
   "id": "64ec5e1c",
   "metadata": {},
   "outputs": [],
   "source": [
    "# create a pivot table of loyalty_flag, find ave. days_since_prior_order, mode product_name, ave. of prices, mode department, mode most_freq_day, mode most_freq_hour\n",
    "\n",
    "pv_final_df = ict_final_df.pivot_table(values=['days_since_prior_order', 'prices'], \n",
    "                                      index='loyalty_flag', \n",
    "                                      aggfunc={'days_since_prior_order': 'mean', 'prices': 'mean'})"
   ]
  },
  {
   "cell_type": "code",
   "execution_count": null,
   "id": "00afc403",
   "metadata": {},
   "outputs": [],
   "source": [
    "pv_final_df"
   ]
  },
  {
   "cell_type": "code",
   "execution_count": null,
   "id": "acc3c3f2",
   "metadata": {},
   "outputs": [],
   "source": [
    "pv_final_df = pv_final_df.reset_index()"
   ]
  },
  {
   "cell_type": "code",
   "execution_count": null,
   "id": "fa511541",
   "metadata": {},
   "outputs": [],
   "source": [
    "# check output\n",
    "\n",
    "pv_final_df"
   ]
  },
  {
   "cell_type": "markdown",
   "id": "328d2ce9",
   "metadata": {},
   "source": [
    "<a id='10'></a> <br>\n",
    ">> ## a. Loyalty and days_since_prior_order"
   ]
  },
  {
   "cell_type": "code",
   "execution_count": null,
   "id": "672461c3",
   "metadata": {},
   "outputs": [],
   "source": [
    "# creates bar chart of ave. prior order\n",
    "\n",
    "barh_loyalty_prior_ave = pv_final_df.plot.barh(y='days_since_prior_order', x='loyalty_flag', legend=False, edgecolor='black', color=['lightgray', 'cornflowerblue', 'orangered'])\n",
    "for days_since_prior_order in barh_loyalty_prior_ave.containers:\n",
    "    \n",
    "    # adds commas\n",
    "    for c in barh_loyalty_prior_ave.containers:\n",
    "        barh_loyalty_prior_ave.bar_label(c, fmt=' {:,.0f} days', fontsize=14, fontstyle='italic')\n",
    "        \n",
    "    # adds 20% whitespace to margins to keep labels inside the box\n",
    "    barh_loyalty_prior_ave.margins(x=0.25)\n",
    "\n",
    "plt.xlabel('')\n",
    "plt.ylabel('Brand Loyalty Level', fontsize=12, fontweight='bold')\n",
    "plt.title('Average Days Between Orders \\nby Loyalty Level', fontsize=14, fontweight='bold')\n",
    "\n",
    "# Export chart to the visualizations folder using savefig() function\n",
    "\n",
    "barh_loyalty_prior_ave.figure.savefig(os.path.join(path, '04 Analysis','Visualizations', 'barh_loyalty_prior_ave.png'), \n",
    "                                bbox_inches='tight') # keeps entire fig in the png"
   ]
  },
  {
   "cell_type": "markdown",
   "id": "04bcac93",
   "metadata": {},
   "source": [
    "<a id='11'></a> <br>\n",
    ">> ## b. Loyalty and ave. price per product"
   ]
  },
  {
   "cell_type": "code",
   "execution_count": null,
   "id": "7a460f19",
   "metadata": {},
   "outputs": [],
   "source": [
    "# creates bar chart of ave. price per product\n",
    "\n",
    "barh_loyalty_ppprod_ave = pv_final_df.plot.barh(y='prices', x='loyalty_flag', legend=False, edgecolor='black', color=['lightgray', 'cornflowerblue', 'orangered'])\n",
    "for days_since_prior_order in barh_loyalty_ppprod_ave.containers:\n",
    "    \n",
    "    # adds commas\n",
    "    for c in barh_loyalty_ppprod_ave.containers:\n",
    "        barh_loyalty_ppprod_ave.bar_label(c, fmt=' ${:,.2f} per item', fontsize=14, fontstyle='italic')\n",
    "        \n",
    "    # adds 20% whitespace to margins to keep labels inside the box\n",
    "    barh_loyalty_ppprod_ave.margins(x=0.25)\n",
    "\n",
    "plt.xlabel('')\n",
    "plt.ylabel('Brand Loyalty Level', fontsize=12, fontweight='bold')\n",
    "plt.title('Average Price Per Item \\nby Loyalty Level', fontsize=14, fontweight='bold')\n",
    "\n",
    "# Export chart to the visualizations folder using savefig() function\n",
    "\n",
    "barh_loyalty_ppprod_ave.figure.savefig(os.path.join(path, '04 Analysis','Visualizations', 'barh_loyalty_ppprod_ave.png'), \n",
    "                                bbox_inches='tight') # keeps entire fig in the png"
   ]
  },
  {
   "cell_type": "markdown",
   "id": "1282b1ea",
   "metadata": {},
   "source": [
    "<a id='12'></a> <br>\n",
    ">> ## c. Loyalty and department"
   ]
  },
  {
   "cell_type": "code",
   "execution_count": null,
   "id": "f1b82c8a",
   "metadata": {},
   "outputs": [],
   "source": [
    "# First change outliers to NaN to correct skew of distribution\n",
    "\n",
    "ict_final_df.loc[ict_final_df['prices'] >100, 'prices'] = np.nan"
   ]
  },
  {
   "cell_type": "code",
   "execution_count": null,
   "id": "420552b9",
   "metadata": {},
   "outputs": [],
   "source": [
    "# creates a pivot table of profile, region and dept to find most profitable department\n",
    "\n",
    "pv_loyalty_dept_reg_prices = ict_final_df.pivot_table(index=['loyalty_flag', 'department'], columns=['region'], values='prices',aggfunc = 'sum')"
   ]
  },
  {
   "cell_type": "code",
   "execution_count": null,
   "id": "98acc482",
   "metadata": {},
   "outputs": [],
   "source": [
    "# check output\n",
    "\n",
    "pv_loyalty_dept_reg_prices"
   ]
  },
  {
   "cell_type": "code",
   "execution_count": null,
   "id": "58b717e8",
   "metadata": {},
   "outputs": [],
   "source": [
    "# reset index\n",
    "\n",
    "pv_loyalty_dept_reg_prices = pv_loyalty_dept_reg_prices.reset_index()"
   ]
  },
  {
   "cell_type": "code",
   "execution_count": null,
   "id": "601c3cc7",
   "metadata": {},
   "outputs": [],
   "source": [
    "# check output\n",
    "\n",
    "pv_loyalty_dept_reg_prices"
   ]
  },
  {
   "cell_type": "code",
   "execution_count": null,
   "id": "b9cec80d",
   "metadata": {},
   "outputs": [],
   "source": [
    "# create dropdown menu graph to access 3 charts (1 per loylalty) of 4 subplots (1 per region) each\n",
    "\n",
    "mypull = [0, 0, 0, 0, 0, 0, 0, 0, 0, 0, 0, 0, 0, 0, 0, 0, 0, 0, 0, 0.1, 0] # explodes 'produce' wedge\n",
    "\n",
    "fig = make_subplots(\n",
    "    rows=2, cols=2,\n",
    "    specs=[[{'type': 'pie'}, {'type': 'pie'}],\n",
    "           [{'type': 'pie'}, {'type': 'pie'}]]\n",
    ") # creates a 2 x 2 subplot and specifies type of charts\n",
    "\n",
    "for t in pv_loyalty_dept_reg_prices['loyalty_flag'].unique(): # groups unique 'loyalty_flag'\n",
    "    dff = pv_loyalty_dept_reg_prices[pv_loyalty_dept_reg_prices['loyalty_flag'] == t]\n",
    "    fig.add_trace(go.Pie(\n",
    "        labels=dff['department'],\n",
    "        values=dff['Midwest'],\n",
    "        title='Midwest',\n",
    "        title_font_size=20,\n",
    "        visible=True,\n",
    "        domain=dict(x=[0.0, 0.5], y=[0.5, 1]) # sets chart in top-left quadrant\n",
    "    ))\n",
    "    \n",
    "    fig.add_trace(go.Pie(\n",
    "        labels=dff['department'],\n",
    "        values=dff['Northeast'],\n",
    "        title='Northeast',\n",
    "        title_font_size=20,\n",
    "        visible=True,\n",
    "        domain=dict(x=[0.5, 1], y=[0.5, 1]) # sets chart in top-right quadrant\n",
    "    ))\n",
    "    \n",
    "    fig.add_trace(go.Pie(\n",
    "        labels=dff['department'],\n",
    "        values=dff['South'],\n",
    "        title='South',\n",
    "        title_font_size=20,\n",
    "        visible=True,\n",
    "        domain=dict(x=[0.0, 0.5], y=[0.0, 0.5]) # sets chart in bottome-left quadrant\n",
    "    ))\n",
    "    \n",
    "    fig.add_trace(go.Pie(\n",
    "        labels=dff['department'],\n",
    "        values=dff['West'],\n",
    "        title='West',\n",
    "        title_font_size=20,\n",
    "        visible=True,\n",
    "        domain=dict(x=[0.5, 1], y=[0, 0.5]) # sets chart in bottom-right quadrant\n",
    "    )) \n",
    "\n",
    "    \n",
    "# creates the dropdown selections\n",
    "fig.update_layout(\n",
    "    updatemenus=[\n",
    "        dict(\n",
    "            active=0,\n",
    "            buttons=list([\n",
    "                dict(label='Select a Profile',\n",
    "                     method='update',\n",
    "                     args=[{'visible': [False]*12}]), # shorthand for true, false, true, false...\n",
    "                dict(label='Loyal customer',\n",
    "                     method='update',\n",
    "                     args=[{'visible': [True]*4 + [False]*8}]),\n",
    "                dict(label='New customer',\n",
    "                     method='update',\n",
    "                     args=[{'visible': [False]*4 + [True]*4 + [False]*4}]),\n",
    "                dict(label='Regular customer',\n",
    "                     method='update',\n",
    "                     args=[{'visible': [False]*8 + [True]*4}]),\n",
    "            ]),\n",
    "        )\n",
    "    ])\n",
    "\n",
    "fig.update_layout(\n",
    "    legend=dict(\n",
    "    orientation='v',\n",
    "    yanchor='auto',\n",
    "    y=0.9,\n",
    "    xanchor='right',\n",
    "    x=-0.1), # sets legend on left and below dropdown\n",
    "    autosize=True, # keeps charts/layout evenly displayed\n",
    "    uniformtext_minsize=13.5,\n",
    "    uniformtext_mode='hide', # sets inside labels to at least fontsize 13.5 and hides the ones that don't fit\n",
    "    height=900,\n",
    "    width=1050, # height and width adjusted to increase chart sizes\n",
    "    title='Customer Loyalty Expenditure by Department & Region',\n",
    "    font_size=16,\n",
    "    title_x=0.5,\n",
    "    title_xanchor='center', # centers the title\n",
    "    legend_title='Department'\n",
    ")\n",
    "\n",
    "fig.update_traces(textposition='inside', # moves all text/labels inside the wedges\n",
    "                  marker=dict(line=dict(color='#000000', width=1)), # gives outline to charts\n",
    "                  hoverinfo='label+percent', \n",
    "                  pull=mypull, # applies the explode parameter from above\n",
    "                  textinfo='label+value', \n",
    "                  texttemplate = '%{label}:<br>(%{value:$,.2s})' # changes percent to value and truncates\n",
    ")\n",
    "\n",
    "fig.update_annotations(font_size=20) # increases the subplot title fontsize\n",
    "\n",
    "# save.fig saved a blank screen, used screenshot instead to save to 'Visualizations' folder \n",
    "\n",
    "fig.show()"
   ]
  },
  {
   "cell_type": "code",
   "execution_count": null,
   "id": "d9509c15",
   "metadata": {},
   "outputs": [],
   "source": [
    "# create 3 individual pie charts if needed"
   ]
  },
  {
   "cell_type": "code",
   "execution_count": null,
   "id": "7efb8442",
   "metadata": {},
   "outputs": [],
   "source": [
    "# create 3 subsets (1 for each loyalty profile) by select rows\n",
    "\n",
    "loyal_subset = pv_loyalty_dept_reg_prices.iloc[0:21].copy() # Loyal customer - copy() to avoid 'slice' error\n",
    "\n",
    "new_subset = pv_loyalty_dept_reg_prices.iloc[21:42].copy() # New customer - copy() to avoid 'slice' error\n",
    "\n",
    "reg_subset = pv_loyalty_dept_reg_prices.iloc[42:63].copy() # Regular customer - copy() to avoid 'slice' error"
   ]
  },
  {
   "cell_type": "code",
   "execution_count": null,
   "id": "90782297",
   "metadata": {},
   "outputs": [],
   "source": [
    "# check outputs \n",
    "\n",
    "loyal_subset"
   ]
  },
  {
   "cell_type": "code",
   "execution_count": null,
   "id": "565cc008",
   "metadata": {},
   "outputs": [],
   "source": [
    "# check outputs \n",
    "\n",
    "new_subset"
   ]
  },
  {
   "cell_type": "code",
   "execution_count": null,
   "id": "e22227a6",
   "metadata": {},
   "outputs": [],
   "source": [
    "# check outputs \n",
    "\n",
    "reg_subset"
   ]
  },
  {
   "cell_type": "code",
   "execution_count": null,
   "id": "b8f27cac",
   "metadata": {},
   "outputs": [],
   "source": [
    "# create list of dfs\n",
    "\n",
    "df_list = [loyal_subset, new_subset, reg_subset]"
   ]
  },
  {
   "cell_type": "code",
   "execution_count": null,
   "id": "6bc5ac69",
   "metadata": {},
   "outputs": [],
   "source": [
    "# remove 'loyalty_flag' from all subsets\n",
    "\n",
    "for i in df_list:\n",
    "    i.columns = ['loyalty_flag', 'department', 'Midwest', 'Northeast', 'South', 'West']\n",
    "    i.drop(i.columns[0], axis=1, inplace=True)"
   ]
  },
  {
   "cell_type": "code",
   "execution_count": null,
   "id": "088b9c6e",
   "metadata": {},
   "outputs": [],
   "source": [
    "# check output\n",
    "\n",
    "loyal_subset"
   ]
  },
  {
   "cell_type": "code",
   "execution_count": null,
   "id": "00547dff",
   "metadata": {},
   "outputs": [],
   "source": [
    "# set the index of all new subsets to department\n",
    "\n",
    "for df in df_list:\n",
    "    # reset index\n",
    "    df.set_index('department', inplace=True)"
   ]
  },
  {
   "cell_type": "code",
   "execution_count": null,
   "id": "9ffc6559",
   "metadata": {},
   "outputs": [],
   "source": [
    "# check output\n",
    "\n",
    "new_subset"
   ]
  },
  {
   "cell_type": "code",
   "execution_count": null,
   "id": "1cc117e3",
   "metadata": {},
   "outputs": [],
   "source": [
    "# remove 'department' header from all subsets\n",
    "\n",
    "for df in df_list:\n",
    "    # remove header\n",
    "    df.index.name=''"
   ]
  },
  {
   "cell_type": "code",
   "execution_count": null,
   "id": "b9ef12fd",
   "metadata": {},
   "outputs": [],
   "source": [
    "# check output\n",
    "\n",
    "reg_subset"
   ]
  },
  {
   "cell_type": "code",
   "execution_count": null,
   "id": "be0ff0e8",
   "metadata": {},
   "outputs": [],
   "source": [
    "# create 3 different pie charts (4 subsets each)"
   ]
  },
  {
   "cell_type": "code",
   "execution_count": null,
   "id": "c59b00ed",
   "metadata": {},
   "outputs": [],
   "source": [
    "# create loyal customer pie charts\n",
    "\n",
    "myexplode = [0, 0, 0, 0, 0, 0, 0, 0, 0, 0, 0, 0, 0, 0, 0, 0, 0, 0, 0, 0, 0.1] # sets 'produce' wedge to pop out\n",
    "mywedge_props = {'linewidth' : 1, 'edgecolor' : 'black'}\n",
    "mytext_props = {'fontsize': 11, 'fontstyle': 'normal'} # sets wedges outline and text properties\n",
    "\n",
    "# Create a figure and a set of subplots\n",
    "fig1, axes = plt.subplots(2, 2, figsize=(12, 12))\n",
    "\n",
    "def my_autopct(pct):\n",
    "    return ('%1.2f%%' % pct) if pct > 6 else '' # sets percent to display only if greater than 5.5\n",
    "\n",
    "# Plot each column of the dataframe as a pie chart\n",
    "for i, column in enumerate(loyal_subset.columns): # iterates following commands over each column of subset\n",
    "    wedges, texts, autotexts = axes[i // 2, i % 2].pie(loyal_subset[column].sort_values(), \n",
    "                                           labels=loyal_subset.sort_values(by=[column], ascending=True).index, \n",
    "                                           autopct='%1.2f%%', \n",
    "                                           wedgeprops=mywedge_props, \n",
    "                                           textprops=mytext_props,  \n",
    "                                           explode=myexplode,\n",
    "                                           startangle=90) # creates 2x2 fig of 4 pie charts (1 for each region) \n",
    "                                                          # and rotates charts so 'produce' is prominently displayed\n",
    "    \n",
    "    threshold = 6\n",
    "    for label, pct_label in zip(texts, autotexts):\n",
    "        pct_value = pct_label.get_text().rstrip('%')\n",
    "        if float(pct_value) < threshold:\n",
    "            label.set_text('')\n",
    "            pct_label.set_text('') # sets labels to display only if corresponding percentage is greater than 6\n",
    "            \n",
    "    axes[i // 2, i % 2].set_title(column, fontsize='12', fontweight='bold') # adds title to each subplot\n",
    "\n",
    "# get current handles and labels\n",
    "# this must be done AFTER plotting\n",
    "current_handles, current_labels = plt.gca().get_legend_handles_labels()\n",
    "\n",
    "# sort or reorder the labels and handles\n",
    "reversed_handles = list(reversed(current_handles))\n",
    "reversed_labels = list(reversed(current_labels))\n",
    "\n",
    "# call plt.legend() with the new values\n",
    "plt.legend(reversed_handles,reversed_labels, title='Departments', bbox_to_anchor=(1.5, 1.8)) \n",
    "\n",
    "fig1.suptitle('Customer Loyalty Expenditure by Department & Region \\n\\nLOYAL CUSTOMER', fontsize='20', fontweight='bold')\n",
    "\n",
    "# Export chart to the visualizations folder using savefig() function\n",
    "\n",
    "plt.savefig(os.path.join(path, '04 Analysis','Visualizations', 'pie_loyal_subset.png'), bbox_inches='tight') # saves png w/out cutting off x,yaxis labels\n",
    "plt.show()  "
   ]
  },
  {
   "cell_type": "code",
   "execution_count": null,
   "id": "5e0f1b73",
   "metadata": {},
   "outputs": [],
   "source": [
    "# create new customer pie charts\n",
    "\n",
    "myexplode = [0, 0, 0, 0, 0, 0, 0, 0, 0, 0, 0, 0, 0, 0, 0, 0, 0, 0, 0, 0, 0.1] # sets 'produce' wedge to pop out\n",
    "mywedge_props = {'linewidth' : 1, 'edgecolor' : 'black'}\n",
    "mytext_props = {'fontsize': 11, 'fontstyle': 'normal'} # sets wedges outline and text properties\n",
    "\n",
    "# Create a figure and a set of subplots\n",
    "fig1, axes = plt.subplots(2, 2, figsize=(12, 12))\n",
    "\n",
    "def my_autopct(pct):\n",
    "    return ('%1.2f%%' % pct) if pct > 6 else '' # sets percent to display only if greater than 5.5\n",
    "\n",
    "# Plot each column of the dataframe as a pie chart\n",
    "for i, column in enumerate(new_subset.columns): # iterates following commands over each column of subset\n",
    "    wedges, texts, autotexts = axes[i // 2, i % 2].pie(new_subset[column].sort_values(), \n",
    "                                           labels=new_subset.sort_values(by=[column], ascending=True).index, \n",
    "                                           autopct='%1.2f%%', \n",
    "                                           wedgeprops=mywedge_props, \n",
    "                                           textprops=mytext_props,  \n",
    "                                           explode=myexplode,\n",
    "                                           startangle=90) # creates 2x2 fig of 4 pie charts (1 for each region) \n",
    "                                                          # and rotates charts so 'produce' is prominently displayed\n",
    "    \n",
    "    threshold = 6\n",
    "    for label, pct_label in zip(texts, autotexts):\n",
    "        pct_value = pct_label.get_text().rstrip('%')\n",
    "        if float(pct_value) < threshold:\n",
    "            label.set_text('')\n",
    "            pct_label.set_text('') # sets labels to display only if corresponding percentage is greater than 6\n",
    "            \n",
    "    axes[i // 2, i % 2].set_title(column, fontsize='12', fontweight='bold') # adds title to each subplot\n",
    "\n",
    "# get current handles and labels\n",
    "# this must be done AFTER plotting\n",
    "current_handles, current_labels = plt.gca().get_legend_handles_labels()\n",
    "\n",
    "# sort or reorder the labels and handles\n",
    "reversed_handles = list(reversed(current_handles))\n",
    "reversed_labels = list(reversed(current_labels))\n",
    "\n",
    "# call plt.legend() with the new values\n",
    "plt.legend(reversed_handles,reversed_labels, title='Departments', bbox_to_anchor=(1.5, 1.8)) \n",
    "\n",
    "fig1.suptitle('Customer Loyalty Expenditure by Department & Region \\n\\nNEW CUSTOMER', fontsize='20', fontweight='bold')\n",
    "\n",
    "# Export chart to the visualizations folder using savefig() function\n",
    "\n",
    "plt.savefig(os.path.join(path, '04 Analysis','Visualizations', 'pie_new_subset.png'), bbox_inches='tight') # saves png w/out cutting off x,yaxis labels\n",
    "plt.show()  "
   ]
  },
  {
   "cell_type": "code",
   "execution_count": null,
   "id": "020a3779",
   "metadata": {},
   "outputs": [],
   "source": [
    "# create reg customer pie charts\n",
    "\n",
    "myexplode = [0, 0, 0, 0, 0, 0, 0, 0, 0, 0, 0, 0, 0, 0, 0, 0, 0, 0, 0, 0, 0.1] # sets 'produce' wedge to pop out\n",
    "mywedge_props = {'linewidth' : 1, 'edgecolor' : 'black'}\n",
    "mytext_props = {'fontsize': 11, 'fontstyle': 'normal'} # sets wedges outline and text properties\n",
    "\n",
    "# Create a figure and a set of subplots\n",
    "fig1, axes = plt.subplots(2, 2, figsize=(12, 12))\n",
    "\n",
    "def my_autopct(pct):\n",
    "    return ('%1.2f%%' % pct) if pct > 6 else '' # sets percent to display only if greater than 5.5\n",
    "\n",
    "# Plot each column of the dataframe as a pie chart\n",
    "for i, column in enumerate(reg_subset.columns): # iterates following commands over each column of subset\n",
    "    wedges, texts, autotexts = axes[i // 2, i % 2].pie(reg_subset[column].sort_values(), \n",
    "                                           labels=reg_subset.sort_values(by=[column], ascending=True).index, \n",
    "                                           autopct='%1.2f%%', \n",
    "                                           wedgeprops=mywedge_props, \n",
    "                                           textprops=mytext_props,  \n",
    "                                           explode=myexplode,\n",
    "                                           startangle=90) # creates 2x2 fig of 4 pie charts (1 for each region) \n",
    "                                                          # and rotates charts so 'produce' is prominently displayed\n",
    "    \n",
    "    threshold = 6\n",
    "    for label, pct_label in zip(texts, autotexts):\n",
    "        pct_value = pct_label.get_text().rstrip('%')\n",
    "        if float(pct_value) < threshold:\n",
    "            label.set_text('')\n",
    "            pct_label.set_text('') # sets labels to display only if corresponding percentage is greater than 6\n",
    "            \n",
    "    axes[i // 2, i % 2].set_title(column, fontsize='12', fontweight='bold') # adds title to each subplot\n",
    "\n",
    "# get current handles and labels\n",
    "# this must be done AFTER plotting\n",
    "current_handles, current_labels = plt.gca().get_legend_handles_labels()\n",
    "\n",
    "# sort or reorder the labels and handles\n",
    "reversed_handles = list(reversed(current_handles))\n",
    "reversed_labels = list(reversed(current_labels))\n",
    "\n",
    "# call plt.legend() with the new values\n",
    "plt.legend(reversed_handles,reversed_labels, title='Departments', bbox_to_anchor=(1.5, 1.8)) \n",
    "\n",
    "fig1.suptitle('Customer Loyalty Expenditure by Department & Region \\n\\nREGULAR CUSTOMER', fontsize='20', fontweight='bold')\n",
    "\n",
    "# Export chart to the visualizations folder using savefig() function\n",
    "\n",
    "plt.savefig(os.path.join(path, '04 Analysis','Visualizations', 'pie_regular_subset.png'), bbox_inches='tight') # saves png w/out cutting off x,yaxis labels\n",
    "plt.show()  "
   ]
  },
  {
   "cell_type": "markdown",
   "id": "b9ea6c62",
   "metadata": {},
   "source": [
    "<a id='13'></a> <br>\n",
    ">> ## d. Loyalty and hour_of_day/day_of_week"
   ]
  },
  {
   "cell_type": "code",
   "execution_count": null,
   "id": "bc9f7b02",
   "metadata": {},
   "outputs": [],
   "source": [
    "# creates dfs of order_ids, loyalty_flag, hod, dow\n",
    "\n",
    "df_dow_valcnts = pd.DataFrame(ict_final_df, columns=['order_id', 'loyalty_flag', 'orders_day_of_week']).copy() # use copy() to avoid 'copy of a slice' error\n",
    "df_hod_valcnts = pd.DataFrame(ict_final_df, columns=['order_id', 'loyalty_flag', 'order_hour_of_day']).copy() # use copy() to avoid 'copy of a slice' error\n",
    "df_dow_prices = pd.DataFrame(ict_final_df, columns=['order_id', 'loyalty_flag', 'orders_day_of_week', 'prices']).copy() # use copy() to avoid 'copy of a slice' error\n",
    "df_hod_prices = pd.DataFrame(ict_final_df, columns=['order_id', 'loyalty_flag', 'order_hour_of_day', 'prices']).copy() # use copy() to avoid 'copy of a slice' error"
   ]
  },
  {
   "cell_type": "code",
   "execution_count": null,
   "id": "831cf5fd",
   "metadata": {},
   "outputs": [],
   "source": [
    "df_dow_valcnts"
   ]
  },
  {
   "cell_type": "code",
   "execution_count": null,
   "id": "6cb5ec4a",
   "metadata": {},
   "outputs": [],
   "source": [
    "df_hod_valcnts"
   ]
  },
  {
   "cell_type": "code",
   "execution_count": null,
   "id": "4da6e472",
   "metadata": {},
   "outputs": [],
   "source": [
    "df_dow_prices"
   ]
  },
  {
   "cell_type": "code",
   "execution_count": null,
   "id": "5cee3acd",
   "metadata": {},
   "outputs": [],
   "source": [
    "df_hod_prices"
   ]
  },
  {
   "cell_type": "code",
   "execution_count": null,
   "id": "732f18bf",
   "metadata": {},
   "outputs": [],
   "source": [
    "# create df list to filter and clean faster\n",
    "\n",
    "dfs_vals = [df_dow_valcnts, df_hod_valcnts]"
   ]
  },
  {
   "cell_type": "code",
   "execution_count": null,
   "id": "f3c15e5a",
   "metadata": {},
   "outputs": [],
   "source": [
    "# check all dfs_vals shape\n",
    "\n",
    "for df in dfs_vals:\n",
    "  print(df.shape)"
   ]
  },
  {
   "cell_type": "code",
   "execution_count": null,
   "id": "48213995",
   "metadata": {},
   "outputs": [],
   "source": [
    "# find dupes\n",
    "\n",
    "for df in dfs_vals:\n",
    "    print(df.duplicated().sum())"
   ]
  },
  {
   "cell_type": "code",
   "execution_count": null,
   "id": "d1407af8",
   "metadata": {},
   "outputs": [],
   "source": [
    "# drop dupes\n",
    "\n",
    "for df in dfs_vals:\n",
    "    df.drop_duplicates(inplace=True)"
   ]
  },
  {
   "cell_type": "code",
   "execution_count": null,
   "id": "b7bae984",
   "metadata": {},
   "outputs": [],
   "source": [
    "# check all dfs_vals shape\n",
    "\n",
    "for df in dfs_vals:\n",
    "  print(df.shape)"
   ]
  },
  {
   "cell_type": "code",
   "execution_count": null,
   "id": "b525ca9a",
   "metadata": {},
   "outputs": [],
   "source": [
    "# check all dfs_vals head\n",
    "\n",
    "for df in dfs_vals:\n",
    "  print(df.head())"
   ]
  },
  {
   "cell_type": "code",
   "execution_count": null,
   "id": "7b1d7e4d",
   "metadata": {},
   "outputs": [],
   "source": [
    "# check all dfs_vals tail\n",
    "\n",
    "for df in dfs_vals:\n",
    "  print(df.tail())"
   ]
  },
  {
   "cell_type": "code",
   "execution_count": null,
   "id": "2fa04af9",
   "metadata": {},
   "outputs": [],
   "source": [
    "# drop order_id column from all dfs_vals\n",
    "\n",
    "df_dow_valcnts = df_dow_valcnts.drop('order_id', axis=1)"
   ]
  },
  {
   "cell_type": "code",
   "execution_count": null,
   "id": "47b0e450",
   "metadata": {},
   "outputs": [],
   "source": [
    "df_dow_valcnts"
   ]
  },
  {
   "cell_type": "code",
   "execution_count": null,
   "id": "4eb0c445",
   "metadata": {},
   "outputs": [],
   "source": [
    "df_hod_valcnts = df_hod_valcnts.drop('order_id', axis=1)"
   ]
  },
  {
   "cell_type": "code",
   "execution_count": null,
   "id": "a1facfb5",
   "metadata": {},
   "outputs": [],
   "source": [
    "df_hod_valcnts"
   ]
  },
  {
   "cell_type": "code",
   "execution_count": null,
   "id": "37a9e219",
   "metadata": {},
   "outputs": [],
   "source": [
    "# use groupby to manipulate data for charting\n",
    "\n",
    "df_dow_valcnts_grouped = df_dow_valcnts.groupby(['loyalty_flag', 'orders_day_of_week']).aggregate({'orders_day_of_week':'count'})\n",
    "df_hod_valcnts_grouped = df_hod_valcnts.groupby(['loyalty_flag', 'order_hour_of_day']).aggregate({'order_hour_of_day':'count'})"
   ]
  },
  {
   "cell_type": "code",
   "execution_count": null,
   "id": "3bb7491c",
   "metadata": {},
   "outputs": [],
   "source": [
    "df_dow_valcnts_grouped"
   ]
  },
  {
   "cell_type": "code",
   "execution_count": null,
   "id": "d304e047",
   "metadata": {},
   "outputs": [],
   "source": [
    "df_hod_valcnts_grouped"
   ]
  },
  {
   "cell_type": "code",
   "execution_count": null,
   "id": "fcc50d11",
   "metadata": {},
   "outputs": [],
   "source": [
    "# rename order_dow and hod cols\n",
    "\n",
    "df_dow_valcnts_grouped.rename(columns= {'orders_day_of_week':'count'}, inplace=True)"
   ]
  },
  {
   "cell_type": "code",
   "execution_count": null,
   "id": "d228eff3",
   "metadata": {},
   "outputs": [],
   "source": [
    "df_dow_valcnts_grouped.head()"
   ]
  },
  {
   "cell_type": "code",
   "execution_count": null,
   "id": "eda424cf",
   "metadata": {},
   "outputs": [],
   "source": [
    "df_hod_valcnts_grouped.rename(columns= {'order_hour_of_day':'count'}, inplace=True)"
   ]
  },
  {
   "cell_type": "code",
   "execution_count": null,
   "id": "345528fc",
   "metadata": {},
   "outputs": [],
   "source": [
    "df_hod_valcnts_grouped.head()"
   ]
  },
  {
   "cell_type": "code",
   "execution_count": null,
   "id": "45af1998",
   "metadata": {},
   "outputs": [],
   "source": [
    "# convert grouped dfs to dataframes and reset index\n",
    "\n",
    "df_dow_valcnts_final = pd.DataFrame(df_dow_valcnts_grouped).reset_index()\n",
    "df_hod_valcnts_final = pd.DataFrame(df_hod_valcnts_grouped).reset_index()"
   ]
  },
  {
   "cell_type": "code",
   "execution_count": null,
   "id": "a851cb98",
   "metadata": {},
   "outputs": [],
   "source": [
    "df_dow_valcnts_final"
   ]
  },
  {
   "cell_type": "code",
   "execution_count": null,
   "id": "ce8b018c",
   "metadata": {},
   "outputs": [],
   "source": [
    "df_hod_valcnts_final"
   ]
  },
  {
   "cell_type": "code",
   "execution_count": null,
   "id": "483dd38d",
   "metadata": {},
   "outputs": [],
   "source": [
    "# same process for prices dfs\n",
    "\n",
    "# create df list to filter and clean faster\n",
    "\n",
    "dfs_prices = [df_dow_prices, df_hod_prices]"
   ]
  },
  {
   "cell_type": "code",
   "execution_count": null,
   "id": "333f0d71",
   "metadata": {},
   "outputs": [],
   "source": [
    "# check all dfs_prices shape\n",
    "\n",
    "for df in dfs_prices:\n",
    "  print(df.shape)"
   ]
  },
  {
   "cell_type": "code",
   "execution_count": null,
   "id": "8cc93747",
   "metadata": {},
   "outputs": [],
   "source": [
    "# check all dfs_prices head\n",
    "\n",
    "for df in dfs_prices:\n",
    "  print(df.head)"
   ]
  },
  {
   "cell_type": "code",
   "execution_count": null,
   "id": "664206f1",
   "metadata": {},
   "outputs": [],
   "source": [
    "# check all dfs_prices tail\n",
    "\n",
    "for df in dfs_prices:\n",
    "  print(df.tail)"
   ]
  },
  {
   "cell_type": "code",
   "execution_count": null,
   "id": "b1723219",
   "metadata": {},
   "outputs": [],
   "source": [
    "# drop order_id column from all dfs_prices\n",
    "\n",
    "df_dow_prices = df_dow_prices.drop('order_id', axis=1)"
   ]
  },
  {
   "cell_type": "code",
   "execution_count": null,
   "id": "dac9ab4b",
   "metadata": {},
   "outputs": [],
   "source": [
    "df_dow_prices"
   ]
  },
  {
   "cell_type": "code",
   "execution_count": null,
   "id": "9b023545",
   "metadata": {},
   "outputs": [],
   "source": [
    "df_hod_prices = df_hod_prices.drop('order_id', axis=1)"
   ]
  },
  {
   "cell_type": "code",
   "execution_count": null,
   "id": "cc6d2254",
   "metadata": {
    "scrolled": true
   },
   "outputs": [],
   "source": [
    "df_hod_prices"
   ]
  },
  {
   "cell_type": "code",
   "execution_count": null,
   "id": "6ff91141",
   "metadata": {},
   "outputs": [],
   "source": [
    "# use groupby to manipulate data for charting\n",
    "\n",
    "df_dow_prices_grouped = df_dow_prices.groupby(['loyalty_flag', 'orders_day_of_week']).aggregate({'prices':'sum'})\n",
    "df_hod_prices_grouped = df_hod_prices.groupby(['loyalty_flag', 'order_hour_of_day']).aggregate({'prices':'sum'})"
   ]
  },
  {
   "cell_type": "code",
   "execution_count": null,
   "id": "c6739bca",
   "metadata": {},
   "outputs": [],
   "source": [
    "# check results\n",
    "\n",
    "df_dow_prices_grouped"
   ]
  },
  {
   "cell_type": "code",
   "execution_count": null,
   "id": "cc10cf28",
   "metadata": {},
   "outputs": [],
   "source": [
    "df_hod_prices_grouped"
   ]
  },
  {
   "cell_type": "code",
   "execution_count": null,
   "id": "108d06e2",
   "metadata": {},
   "outputs": [],
   "source": [
    "# convert grouped dfs to dataframes and reset index\n",
    "\n",
    "df_dow_prices_final = pd.DataFrame(df_dow_prices_grouped).reset_index()"
   ]
  },
  {
   "cell_type": "code",
   "execution_count": null,
   "id": "ae007bf3",
   "metadata": {},
   "outputs": [],
   "source": [
    "df_dow_prices_final"
   ]
  },
  {
   "cell_type": "code",
   "execution_count": null,
   "id": "384648b8",
   "metadata": {},
   "outputs": [],
   "source": [
    "df_hod_prices_final = pd.DataFrame(df_hod_prices_grouped).reset_index()"
   ]
  },
  {
   "cell_type": "code",
   "execution_count": null,
   "id": "7ff05226",
   "metadata": {},
   "outputs": [],
   "source": [
    "df_hod_prices_final"
   ]
  },
  {
   "cell_type": "code",
   "execution_count": null,
   "id": "3ba93d1f",
   "metadata": {},
   "outputs": [],
   "source": [
    "# create dropdown menu graph to access 3 charts (1 per loylalty) of 4 subplots each\n",
    "# use 4 different dfs:\n",
    "    # df_dow_valcnts_final\n",
    "    # df_hod_valcnts_final\n",
    "    # df_dow_prices_final\n",
    "    # df_hod_prices_final\n",
    "\n",
    "my_tickvals=[0, 1, 2, 3, 4, 5, 6] \n",
    "my_ticktext=['Saturday', 'Sunday', 'Monday', 'Tuesday', 'Wednesday', 'Thursday', 'Friday']\n",
    "\n",
    "fig = make_subplots(\n",
    "    specs=[[{'type':'xy'}], [{'type':'xy'}], [{'type':'xy'}], [{'type':'xy'}]],\n",
    "    rows=4, cols=1,\n",
    "    subplot_titles=('Plot 1', 'Plot 2', 'Plot 3', 'Plot 4')\n",
    ") # creates a 4 x 1 subplot and specifies type of charts\n",
    "\n",
    "for t in df_dow_valcnts_final['loyalty_flag'].unique(): # groups unique 'loyalty_flag'\n",
    "    dff1 = df_dow_valcnts_final[df_dow_valcnts_final['loyalty_flag'] == t]\n",
    "    fig.add_trace(go.Bar(\n",
    "        x=dff1['orders_day_of_week'].unique(),\n",
    "        y=dff1['count'],\n",
    "        visible=True,\n",
    "        name=''),\n",
    "        row=1, col=1\n",
    "    )\n",
    "\n",
    "for t in df_dow_prices_final['loyalty_flag'].unique(): # groups unique 'loyalty_flag'\n",
    "    dff2 = df_dow_prices_final[df_dow_prices_final['loyalty_flag'] == t]\n",
    "    fig.add_trace(go.Bar(\n",
    "        x=dff2['orders_day_of_week'].unique(),\n",
    "        y=dff2['prices'],\n",
    "        visible=True,\n",
    "        name=''),\n",
    "        row=2, col=1\n",
    "    )\n",
    "    \n",
    "for t in df_hod_valcnts_final['loyalty_flag'].unique(): # groups unique 'loyalty_flag'\n",
    "    dff3 = df_hod_valcnts_final[df_hod_valcnts_final['loyalty_flag'] == t]\n",
    "    fig.add_trace(go.Bar(\n",
    "        x=dff3['order_hour_of_day'].unique(),\n",
    "        y=dff3['count'],\n",
    "        visible=True,\n",
    "        name=''),\n",
    "        row=3, col=1\n",
    "    )\n",
    "    \n",
    "for t in df_hod_prices_final['loyalty_flag'].unique(): # groups unique 'loyalty_flag'\n",
    "    dff4 = df_hod_prices_final[df_hod_prices_final['loyalty_flag'] == t]\n",
    "    fig.add_trace(go.Bar(\n",
    "        x=dff4['order_hour_of_day'].unique(),\n",
    "        y=dff4['prices'],\n",
    "        visible=True,\n",
    "        name=''), \n",
    "        row=4, col=1\n",
    "    )\n",
    "    \n",
    "# creates the dropdown selections\n",
    "fig.update_layout(dragmode=False,\n",
    "    updatemenus=[\n",
    "        dict(\n",
    "            active=0,\n",
    "            buttons=list([\n",
    "                dict(label='Select a Profile',\n",
    "                     method='update',\n",
    "                     args=[{'visible': [False]*12}]), # shorthand for true, false, true, false...\n",
    "                dict(label='New customer',\n",
    "                     method='update',\n",
    "                     args=[{'visible': [False]*1 + [True]*1 + [False]*2 + [True]*1 + [False]*2 + [True]*1 + [False]*2 + [True]*1 + [False]*1}]),\n",
    "                dict(label='Regular customer',\n",
    "                     method='update',\n",
    "                     args=[{'visible': [False]*2 + [True]*1 + [False]*2 + [True]*1 + [False]*2 + [True]*1 + [False]*2 + [True]*1}]),\n",
    "                dict(label='Loyal customer',\n",
    "                     method='update',\n",
    "                     args=[{'visible': [True]*1 + [False]*2 + [True]*1 + [False]*2 + [True]*1 + [False]*2 + [True]*1 + [False]*2}]),\n",
    "            ]),\n",
    "        )\n",
    "    ])\n",
    "\n",
    "fig.update_layout(barmode='group',\n",
    "    showlegend=False, # removes legend\n",
    "    autosize=True, # keeps charts/layout evenly displayed\n",
    "    uniformtext_minsize=22,\n",
    "    uniformtext_mode='hide', # sets inside labels to at least fontsize 13.5 and hides the ones that don't fit\n",
    "    height=1200,\n",
    "    width=1000, # height and width adjusted to increase chart sizes\n",
    "    title='Customer Loyalty Expenditure by Day & Hour of Day',\n",
    "    font_size=16,\n",
    "    title_x=0.5,\n",
    "    title_xanchor='center' # centers the title\n",
    ")\n",
    "\n",
    "fig.update_xaxes(tick0=0, dtick=1) # displays all tickmarks\n",
    "fig.update_xaxes(tickvals=my_tickvals, ticktext=my_ticktext, row=1, col=1) # changes ticklabels to my_tickvals\n",
    "fig.update_xaxes(tickvals=my_tickvals, ticktext=my_ticktext, row=2, col=1) # changes ticklabels to my_tickvals\n",
    "fig.update_xaxes(title='(0 = 12am, 23 = 11pm)', row=3, col=1) # changes xaxis label\n",
    "fig.update_xaxes(title='(0 = 12am, 23 = 11pm)', row=4, col=1) # changes xaxis label\n",
    "\n",
    "fig.update_traces(textposition='inside', # moves all text/labels inside the wedges\n",
    "                  marker=dict(line=dict(color='#000000', width=1)), # gives outline to charts\n",
    "                  hoverinfo='all'\n",
    ")\n",
    "\n",
    "names={'Plot 1':'ORDERS: Day of Week', 'Plot 2':'SPEND: Day of Week', 'Plot 3':'ORDERS: Hour of Day', 'Plot 4':'SPEND: Hour of Day'}\n",
    "fig.for_each_annotation(lambda a: a.update(text = names[a.text]))\n",
    "fig.update_annotations(font_size=20) # increases the subplot title fontsize\n",
    "\n",
    "# save.fig saved a blank screen, used screenshot instead to save to 'Visualizations' folder \n",
    "\n",
    "fig.show()"
   ]
  },
  {
   "cell_type": "markdown",
   "id": "8cb07a9a",
   "metadata": {},
   "source": [
    "<a id='14'></a> <br>\n",
    "> ## C. Regional Ordering Habits"
   ]
  },
  {
   "cell_type": "code",
   "execution_count": null,
   "id": "661241b6",
   "metadata": {},
   "outputs": [],
   "source": [
    "ict_final_df.head()"
   ]
  },
  {
   "cell_type": "code",
   "execution_count": null,
   "id": "63295710",
   "metadata": {},
   "outputs": [],
   "source": [
    "# First change outliers to NaN to correct skew of distribution\n",
    "\n",
    "ict_final_df.loc[ict_final_df['prices'] >100, 'prices'] = np.nan"
   ]
  },
  {
   "cell_type": "code",
   "execution_count": null,
   "id": "b2835eab",
   "metadata": {},
   "outputs": [],
   "source": [
    "# create 'order_total' col\n",
    "\n",
    "ict_final_df['order_total'] = ict_final_df.groupby('order_id')['prices'].transform('sum')"
   ]
  },
  {
   "cell_type": "code",
   "execution_count": null,
   "id": "4e5c5393",
   "metadata": {},
   "outputs": [],
   "source": [
    "ict_final_df['order_total'].describe()"
   ]
  },
  {
   "cell_type": "code",
   "execution_count": null,
   "id": "f559584f",
   "metadata": {},
   "outputs": [],
   "source": [
    "# check df\n",
    "\n",
    "ict_final_df.head()"
   ]
  },
  {
   "cell_type": "code",
   "execution_count": null,
   "id": "340c27c6",
   "metadata": {},
   "outputs": [],
   "source": [
    "# Export new df as pkl\n",
    "\n",
    "ict_final_df.to_pickle(os.path.join(path, '02 Data','Prepared Data', 'ict_final_df.pkl'))"
   ]
  },
  {
   "cell_type": "markdown",
   "id": "2104b561",
   "metadata": {},
   "source": [
    "## --------------------IMPORT ICT_FINAL_DF"
   ]
  },
  {
   "cell_type": "code",
   "execution_count": null,
   "id": "5580b612",
   "metadata": {},
   "outputs": [],
   "source": [
    "# Import data\n",
    "\n",
    "ict_final_df = pd.read_pickle(os.path.join(path, '02 Data', 'Prepared Data', 'ict_final_df.pkl'))"
   ]
  },
  {
   "cell_type": "code",
   "execution_count": null,
   "id": "e00b30a4",
   "metadata": {},
   "outputs": [],
   "source": [
    "# create df of region and cols relating to order habits\n",
    "\n",
    "df_reg_order_habits = pd.DataFrame(ict_final_df, columns=['order_id', 'user_id', 'region', 'orders_day_of_week', 'order_hour_of_day', 'prior_order_median', 'most_ordered_product', 'max_order', 'order_total']).copy() # use copy() to avoid 'copy of a slice' error"
   ]
  },
  {
   "cell_type": "code",
   "execution_count": null,
   "id": "58dbbd2a",
   "metadata": {},
   "outputs": [],
   "source": [
    "# check df\n",
    "\n",
    "df_reg_order_habits.shape"
   ]
  },
  {
   "cell_type": "code",
   "execution_count": null,
   "id": "677f8bf4",
   "metadata": {},
   "outputs": [],
   "source": [
    "df_reg_order_habits.head()"
   ]
  },
  {
   "cell_type": "code",
   "execution_count": null,
   "id": "854bc061",
   "metadata": {},
   "outputs": [],
   "source": [
    "# remove all dupes\n",
    "\n",
    "df_reg_order_habits = df_reg_order_habits.drop_duplicates()\n",
    "\n",
    "df_reg_order_habits.shape"
   ]
  },
  {
   "cell_type": "code",
   "execution_count": null,
   "id": "6696deed",
   "metadata": {},
   "outputs": [],
   "source": [
    "df_reg_order_habits"
   ]
  },
  {
   "cell_type": "code",
   "execution_count": null,
   "id": "93b9b320",
   "metadata": {},
   "outputs": [],
   "source": [
    "# create separate dfs for each col\n",
    "\n",
    "# avg dow\n",
    "df_reg_order_dow = df_reg_order_habits.groupby('region').agg({'orders_day_of_week': lambda x: x.mode()})\n",
    "\n",
    "# avg hod\n",
    "df_reg_order_hod = df_reg_order_habits.groupby('region').agg({'order_hour_of_day': lambda x: x.mode()})\n",
    "\n",
    "# avg prior order\n",
    "df_reg_prior = df_reg_order_habits.groupby('region').agg({'prior_order_median': 'mean'})\n",
    "\n",
    "# avg product_name\n",
    "df_reg_prod = df_reg_order_habits.groupby('region').agg({'most_ordered_product': lambda x: x.mode()})\n",
    "\n",
    "# avg order and total spend\n",
    "df_reg_prices = df_reg_order_habits.groupby('region').agg({'order_total': ('mean', 'sum')})\n",
    "\n",
    "# avg product_name\n",
    "df_reg_max_order = df_reg_order_habits.groupby('region').agg({'max_order': 'mean'})"
   ]
  },
  {
   "cell_type": "markdown",
   "id": "21b9f201",
   "metadata": {},
   "source": [
    "<a id='15'></a> <br>\n",
    ">> ## a. orders_day_of_week"
   ]
  },
  {
   "cell_type": "code",
   "execution_count": null,
   "id": "54d5fb66",
   "metadata": {},
   "outputs": [],
   "source": [
    "# check dfs\n",
    "\n",
    "df_reg_order_dow"
   ]
  },
  {
   "cell_type": "markdown",
   "id": "bacd4fb5",
   "metadata": {},
   "source": [
    "<a id='16'></a> <br>\n",
    ">> ## b. order_hour_of_day"
   ]
  },
  {
   "cell_type": "code",
   "execution_count": null,
   "id": "004e44a4",
   "metadata": {},
   "outputs": [],
   "source": [
    "df_reg_order_hod"
   ]
  },
  {
   "cell_type": "markdown",
   "id": "5d566c90",
   "metadata": {},
   "source": [
    "<a id='17'></a> <br>\n",
    ">> ## c. prior_order_median"
   ]
  },
  {
   "cell_type": "code",
   "execution_count": null,
   "id": "e9caf955",
   "metadata": {},
   "outputs": [],
   "source": [
    "df_reg_prior"
   ]
  },
  {
   "cell_type": "markdown",
   "id": "4e993a37",
   "metadata": {},
   "source": [
    "<a id='18'></a> <br>\n",
    ">> ## d. most_ordered_product"
   ]
  },
  {
   "cell_type": "code",
   "execution_count": null,
   "id": "3daf79f5",
   "metadata": {},
   "outputs": [],
   "source": [
    "df_reg_prod"
   ]
  },
  {
   "cell_type": "markdown",
   "id": "b97c3cb0",
   "metadata": {},
   "source": [
    "<a id='19'></a> <br>\n",
    ">> ## e. order_total"
   ]
  },
  {
   "cell_type": "code",
   "execution_count": null,
   "id": "a031c6fd",
   "metadata": {},
   "outputs": [],
   "source": [
    "df_reg_prices"
   ]
  },
  {
   "cell_type": "markdown",
   "id": "4dbb03a1",
   "metadata": {},
   "source": [
    "<a id='20'></a> <br>\n",
    ">> ## f. max_order"
   ]
  },
  {
   "cell_type": "code",
   "execution_count": null,
   "id": "20feb91a",
   "metadata": {},
   "outputs": [],
   "source": [
    "df_reg_max_order"
   ]
  },
  {
   "cell_type": "markdown",
   "id": "0bb99ba0",
   "metadata": {},
   "source": [
    "### --- NO BIG DIFFERENCE"
   ]
  },
  {
   "cell_type": "code",
   "execution_count": null,
   "id": "330f9760",
   "metadata": {},
   "outputs": [],
   "source": [
    "# create df2 of region and cols relating to order habits\n",
    "\n",
    "df_reg_order_habits2 = pd.DataFrame(ict_final_df, columns=['user_id', 'region', 'price_range', 'loyalty_flag', 'spending_flag', 'order_freq_flag']).copy() # use copy() to avoid 'copy of a slice' error"
   ]
  },
  {
   "cell_type": "code",
   "execution_count": null,
   "id": "499a17da",
   "metadata": {},
   "outputs": [],
   "source": [
    "# check df\n",
    "\n",
    "df_reg_order_habits2.shape"
   ]
  },
  {
   "cell_type": "code",
   "execution_count": null,
   "id": "db5f757b",
   "metadata": {},
   "outputs": [],
   "source": [
    "df_reg_order_habits2.head()"
   ]
  },
  {
   "cell_type": "code",
   "execution_count": null,
   "id": "36f5042c",
   "metadata": {},
   "outputs": [],
   "source": [
    "# creates cts of region and others\n",
    "\n",
    "ct_reg_price_range = pd.crosstab(ict_final_df['price_range'], ict_final_df['region'])\n",
    "\n",
    "ct_reg_loyalty_flag = pd.crosstab(ict_final_df['loyalty_flag'], ict_final_df['region'])\n",
    "\n",
    "ct_reg_spending_flag = pd.crosstab(ict_final_df['spending_flag'], ict_final_df['region'])\n",
    "\n",
    "ct_reg_order_freq_flag = pd.crosstab(ict_final_df['order_freq_flag'], ict_final_df['region'])"
   ]
  },
  {
   "cell_type": "code",
   "execution_count": null,
   "id": "59709b78",
   "metadata": {},
   "outputs": [],
   "source": [
    "# check results\n",
    "\n",
    "ct_reg_price_range.shape"
   ]
  },
  {
   "cell_type": "code",
   "execution_count": null,
   "id": "31be669f",
   "metadata": {},
   "outputs": [],
   "source": [
    "ct_reg_price_range.head()"
   ]
  },
  {
   "cell_type": "code",
   "execution_count": null,
   "id": "1d0e382c",
   "metadata": {},
   "outputs": [],
   "source": [
    "ct_reg_loyalty_flag.shape"
   ]
  },
  {
   "cell_type": "code",
   "execution_count": null,
   "id": "c459ace2",
   "metadata": {},
   "outputs": [],
   "source": [
    "ct_reg_loyalty_flag.head()"
   ]
  },
  {
   "cell_type": "code",
   "execution_count": null,
   "id": "0bd5b6c1",
   "metadata": {},
   "outputs": [],
   "source": [
    "ct_reg_spending_flag.shape"
   ]
  },
  {
   "cell_type": "code",
   "execution_count": null,
   "id": "47ea5955",
   "metadata": {},
   "outputs": [],
   "source": [
    "ct_reg_spending_flag.head()"
   ]
  },
  {
   "cell_type": "code",
   "execution_count": null,
   "id": "789cb73a",
   "metadata": {},
   "outputs": [],
   "source": [
    "ct_reg_order_freq_flag.shape"
   ]
  },
  {
   "cell_type": "code",
   "execution_count": null,
   "id": "e46945ec",
   "metadata": {},
   "outputs": [],
   "source": [
    "ct_reg_order_freq_flag.head()"
   ]
  },
  {
   "cell_type": "markdown",
   "id": "fe4d38d4",
   "metadata": {},
   "source": [
    "<a id='21'></a> <br>\n",
    ">> ## g. Price_range"
   ]
  },
  {
   "cell_type": "code",
   "execution_count": null,
   "id": "1d61393c",
   "metadata": {},
   "outputs": [],
   "source": [
    "# create pie chart of region and price_range\n",
    "\n",
    "mywedge_props = {'linewidth' : 1, 'edgecolor' : 'black'}\n",
    "mytext_props = {'fontsize': 16, 'fontstyle': 'normal', 'fontweight': 'bold'} # sets wedges outline and text properties\n",
    "\n",
    "# create patches for legend\n",
    "mid_patch = mpatches.Patch(color='orangered', label='Mid-range (\\$6-\\$15)')\n",
    "high_patch = mpatches.Patch(color='lightgray', label='High-range (>$15)')\n",
    "low_patch = mpatches.Patch(color='cornflowerblue', label='Low-range (<$6)')\n",
    "\n",
    "# Create a figure and a set of subplots\n",
    "fig, axes = plt.subplots(2, 2, figsize=(12, 12))\n",
    "\n",
    "def my_autopct(pct):\n",
    "    return ('%1.2f%%' % pct)\n",
    "\n",
    "# Plot each column of the dataframe as a pie chart\n",
    "for i, column in enumerate(ct_reg_price_range.columns): # iterates following commands over each column of subset\n",
    "    wedges, texts, autotexts = axes[i // 2, i % 2].pie(ct_reg_price_range[column].sort_values(),\n",
    "                                           autopct='%1.2f%%',\n",
    "                                           wedgeprops=mywedge_props,\n",
    "                                           colors=('lightgray', 'cornflowerblue', 'orangered'),\n",
    "                                           textprops=mytext_props,\n",
    "                                           startangle=180) # creates 2x2 fig of 4 pie charts (1 for each region) \n",
    "                                                          # and rotates charts so 'produce' is prominently displayed\n",
    "   \n",
    "    for patch, txt in zip(wedges, autotexts): # moves pct txt too small for wedge to outside of chart\n",
    "        if (patch.theta2 - patch.theta1) <= 5:\n",
    "            # the angle at which the text is normally located\n",
    "            angle = (patch.theta2 + patch.theta1) / 2.\n",
    "            # new distance to the pie center\n",
    "            x = patch.r * 1.2 * np.cos(angle * np.pi / 180)\n",
    "            y = patch.r * 1.2 * np.sin(angle * np.pi / 180)\n",
    "            # move text to new position\n",
    "            txt.set_position((x, y))\n",
    "        \n",
    "    axes[i // 2, i % 2].set_title(column, fontsize='14', fontweight='normal') # adds title to each subplot\n",
    "\n",
    "# call plt.legend() with the new values\n",
    "plt.legend(handles=[mid_patch, low_patch, high_patch], title='Product Pricing', bbox_to_anchor=(1.5, 1.8))\n",
    "\n",
    "fig.suptitle('Proportion of Product Price-range \\nby Customer Region', fontsize='20', fontweight='bold')\n",
    "\n",
    "# Export chart to the visualizations folder using savefig() function\n",
    "\n",
    "plt.savefig(os.path.join(path, '04 Analysis','Visualizations', 'pie_reg_price_range.png'), bbox_inches='tight') # saves png w/out cutting off x,yaxis labels\n",
    "plt.show() "
   ]
  },
  {
   "cell_type": "markdown",
   "id": "7c152a32",
   "metadata": {},
   "source": [
    "<a id='22'></a> <br>\n",
    ">> ## h. Loyalty_flag"
   ]
  },
  {
   "cell_type": "code",
   "execution_count": null,
   "id": "b56a4586",
   "metadata": {},
   "outputs": [],
   "source": [
    "# create pie chart of region and loyalty flag\n",
    "\n",
    "mywedge_props = {'linewidth' : 1, 'edgecolor' : 'black'}\n",
    "mytext_props = {'fontsize': 16, 'fontstyle': 'normal', 'fontweight': 'bold'} # sets wedges outline and text properties\n",
    "\n",
    "# create patches for legend\n",
    "loyal_patch = mpatches.Patch(color='lightgray', label='Loyal (>40 orders)')\n",
    "new_patch = mpatches.Patch(color='cornflowerblue', label='New (<=10 orders)')\n",
    "regular_patch = mpatches.Patch(color='orangered', label='Regular (11-40 orders)')\n",
    "\n",
    "# Create a figure and a set of subplots\n",
    "fig, axes = plt.subplots(2, 2, figsize=(12, 12))\n",
    "\n",
    "def my_autopct(pct):\n",
    "    return ('%1.2f%%' % pct)\n",
    "\n",
    "# Plot each column of the dataframe as a pie chart\n",
    "for i, column in enumerate(ct_reg_loyalty_flag.columns): # iterates following commands over each column of subset\n",
    "    wedges, texts, autotexts = axes[i // 2, i % 2].pie(ct_reg_loyalty_flag[column].sort_values(),\n",
    "                                           autopct='%1.2f%%',\n",
    "                                           wedgeprops=mywedge_props,\n",
    "                                           colors=('lightgray', 'cornflowerblue', 'orangered'),\n",
    "                                           textprops=mytext_props,\n",
    "                                           startangle=180) # creates 2x2 fig of 4 pie charts (1 for each region) \n",
    "                                                          # and rotates charts so 'produce' is prominently displayed\n",
    "   \n",
    "    for patch, txt in zip(wedges, autotexts): # moves pct txt too small for wedge to outside of chart\n",
    "        if (patch.theta2 - patch.theta1) <= 5:\n",
    "            # the angle at which the text is normally located\n",
    "            angle = (patch.theta2 + patch.theta1) / 2.\n",
    "            # new distance to the pie center\n",
    "            x = patch.r * 1.2 * np.cos(angle * np.pi / 180)\n",
    "            y = patch.r * 1.2 * np.sin(angle * np.pi / 180)\n",
    "            # move text to new position\n",
    "            txt.set_position((x, y))\n",
    "        \n",
    "    axes[i // 2, i % 2].set_title(column, fontsize='14', fontweight='normal') # adds title to each subplot\n",
    "\n",
    "# call plt.legend() with the new values\n",
    "plt.legend(handles=[regular_patch, new_patch, loyal_patch], title='Loyalty Level', bbox_to_anchor=(1.5, 1.8))\n",
    "\n",
    "fig.suptitle('Proportion of Customer Loyalty \\nby Region', fontsize='20', fontweight='bold')\n",
    "\n",
    "# Export chart to the visualizations folder using savefig() function\n",
    "\n",
    "plt.savefig(os.path.join(path, '04 Analysis','Visualizations', 'pie_reg_loyalty_flag.png'), bbox_inches='tight') # saves png w/out cutting off x,yaxis labels\n",
    "plt.show() "
   ]
  },
  {
   "cell_type": "markdown",
   "id": "3b063cea",
   "metadata": {},
   "source": [
    "<a id='23'></a> <br>\n",
    ">> ## i. Spending_flag"
   ]
  },
  {
   "cell_type": "code",
   "execution_count": null,
   "id": "68b98e7e",
   "metadata": {},
   "outputs": [],
   "source": [
    "# create pie chart of region and spending flag\n",
    "\n",
    "mywedge_props = {'linewidth' : 1, 'edgecolor' : 'black'}\n",
    "mytext_props = {'fontsize': 16, 'fontstyle': 'normal', 'fontweight': 'bold'} # sets wedges outline and text properties\n",
    "\n",
    "# create patches for legend\n",
    "low_patch = mpatches.Patch(color='orangered', label='Low Spender (<$10 avg.)')\n",
    "high_patch = mpatches.Patch(color='cornflowerblue', label='High Spender (>$10 avg.)')\n",
    "\n",
    "# Create a figure and a set of subplots\n",
    "fig, axes = plt.subplots(2, 2, figsize=(12, 12))\n",
    "\n",
    "def my_autopct(pct):\n",
    "    return ('%1.2f%%' % pct)\n",
    "\n",
    "# Plot each column of the dataframe as a pie chart\n",
    "for i, column in enumerate(ct_reg_spending_flag.columns): # iterates following commands over each column of subset\n",
    "    wedges, texts, autotexts = axes[i // 2, i % 2].pie(ct_reg_spending_flag[column].sort_values(),\n",
    "                                           autopct='%1.2f%%',\n",
    "                                           wedgeprops=mywedge_props,\n",
    "                                           colors=('cornflowerblue', 'orangered'),\n",
    "                                           textprops=mytext_props,\n",
    "                                           startangle=180) # creates 2x2 fig of 4 pie charts (1 for each region) \n",
    "                                                          # and rotates charts so 'produce' is prominently displayed\n",
    "   \n",
    "    for patch, txt in zip(wedges, autotexts): # moves pct txt too small for wedge to outside of chart\n",
    "        if (patch.theta2 - patch.theta1) <= 10:\n",
    "            # the angle at which the text is normally located\n",
    "            angle = (patch.theta2 + patch.theta1) / 2.\n",
    "            # new distance to the pie center\n",
    "            x = patch.r * 1.2 * np.cos(angle * np.pi / 180)\n",
    "            y = patch.r * 1.2 * np.sin(angle * np.pi / 180)\n",
    "            # move text to new position\n",
    "            txt.set_position((x, y))\n",
    "        \n",
    "    axes[i // 2, i % 2].set_title(column, fontsize='14', fontweight='normal') # adds title to each subplot\n",
    "\n",
    "# call plt.legend() with the new values\n",
    "plt.legend(handles=[low_patch, high_patch], title='Spending Level \\n(avg. price per item)', bbox_to_anchor=(1.5, 1.8))\n",
    "\n",
    "fig.suptitle('Proportion of Customer Spending Level \\nby Region', fontsize='20', fontweight='bold')\n",
    "\n",
    "# Export chart to the visualizations folder using savefig() function\n",
    "\n",
    "plt.savefig(os.path.join(path, '04 Analysis','Visualizations', 'pie_reg_spending_flag.png'), bbox_inches='tight') # saves png w/out cutting off x,yaxis labels\n",
    "plt.show() "
   ]
  },
  {
   "cell_type": "markdown",
   "id": "a19fb9c1",
   "metadata": {},
   "source": [
    "<a id='24'></a> <br>\n",
    ">> ## j. Order_frequency_flag"
   ]
  },
  {
   "cell_type": "code",
   "execution_count": null,
   "id": "2507f5ca",
   "metadata": {},
   "outputs": [],
   "source": [
    "# create pie chart of region and order_frequency_flag\n",
    "\n",
    "mywedge_props = {'linewidth' : 1, 'edgecolor' : 'black'}\n",
    "mytext_props = {'fontsize': 16, 'fontstyle': 'normal', 'fontweight': 'bold'} # sets wedges outline and text properties\n",
    "\n",
    "# create patches for legend\n",
    "non_freq_patch = mpatches.Patch(color='lightgray', label='Non-frequent (>20 days)')\n",
    "regular_patch = mpatches.Patch(color='cornflowerblue', label='Regular (11-20 days)')\n",
    "freq_patch = mpatches.Patch(color='orangered', label='Frequent (<=10 days)')\n",
    "\n",
    "# Create a figure and a set of subplots\n",
    "fig, axes = plt.subplots(2, 2, figsize=(12, 12))\n",
    "\n",
    "def my_autopct(pct):\n",
    "    return ('%1.2f%%' % pct)\n",
    "\n",
    "# Plot each column of the dataframe as a pie chart\n",
    "for i, column in enumerate(ct_reg_order_freq_flag.columns): # iterates following commands over each column of subset\n",
    "    wedges, texts, autotexts = axes[i // 2, i % 2].pie(ct_reg_order_freq_flag[column].sort_values(),\n",
    "                                           autopct='%1.2f%%',\n",
    "                                           wedgeprops=mywedge_props,\n",
    "                                           colors=('lightgray', 'cornflowerblue', 'orangered'),\n",
    "                                           textprops=mytext_props,\n",
    "                                           startangle=180) # creates 2x2 fig of 4 pie charts (1 for each region) \n",
    "                                                          # and rotates charts so 'produce' is prominently displayed\n",
    "   \n",
    "    for patch, txt in zip(wedges, autotexts): # moves pct txt too small for wedge to outside of chart\n",
    "        if (patch.theta2 - patch.theta1) <= 10:\n",
    "            # the angle at which the text is normally located\n",
    "            angle = (patch.theta2 + patch.theta1) / 2.\n",
    "            # new distance to the pie center\n",
    "            x = patch.r * 1.2 * np.cos(angle * np.pi / 180)\n",
    "            y = patch.r * 1.2 * np.sin(angle * np.pi / 180)\n",
    "            # move text to new position\n",
    "            txt.set_position((x, y))\n",
    "        \n",
    "    axes[i // 2, i % 2].set_title(column, fontsize='14', fontweight='normal') # adds title to each subplot\n",
    "\n",
    "# call plt.legend() with the new values\n",
    "plt.legend(handles=[freq_patch, regular_patch, non_freq_patch], title='Order Frequency \\n(avg. days between orders)', bbox_to_anchor=(1.5, 1.8))\n",
    "\n",
    "fig.suptitle('Customer Order Frequency \\nby Region', fontsize='20', fontweight='bold')\n",
    "\n",
    "# Export chart to the visualizations folder using savefig() function\n",
    "\n",
    "plt.savefig(os.path.join(path, '04 Analysis','Visualizations', 'pie_reg_freq_flag.png'), bbox_inches='tight') # saves png w/out cutting off x,yaxis labels\n",
    "plt.show() "
   ]
  },
  {
   "cell_type": "markdown",
   "id": "3b65ba08",
   "metadata": {},
   "source": [
    "### --- STILL NO DIFFERENCE BETWEEN REGION AND ORDERING HABITS"
   ]
  },
  {
   "cell_type": "markdown",
   "id": "c6a26c1f",
   "metadata": {},
   "source": [
    "<a id='25'></a> <br>\n",
    "> ## D. Age and Family Status"
   ]
  },
  {
   "cell_type": "code",
   "execution_count": null,
   "id": "06a0e3d7",
   "metadata": {},
   "outputs": [],
   "source": [
    "ict_final_df.head()"
   ]
  },
  {
   "cell_type": "code",
   "execution_count": null,
   "id": "1ea937f9",
   "metadata": {},
   "outputs": [],
   "source": [
    "# create multiple dfs of dependants/user_id/age and cols relating to order habits\n",
    "\n",
    "df_deps_age_dow = pd.DataFrame(ict_final_df, columns=['order_id', 'user_id', 'dependants', 'age', 'orders_day_of_week']).copy() # use copy() to avoid 'copy of a slice' error\n",
    "df_deps_age_hod = pd.DataFrame(ict_final_df, columns=['order_id', 'user_id', 'dependants', 'age', 'order_hour_of_day']).copy() # use copy() to avoid 'copy of a slice' error\n",
    "df_deps_age_prices = pd.DataFrame(ict_final_df, columns=['order_id', 'user_id', 'dependants', 'age', 'prices']).copy() # use copy() to avoid 'copy of a slice' error\n",
    "df_deps_age_total = pd.DataFrame(ict_final_df, columns=['order_id', 'user_id', 'dependants', 'age', 'order_total']).copy() # use copy() to avoid 'copy of a slice' error\n",
    "df_deps_age_prior = pd.DataFrame(ict_final_df, columns=['user_id', 'dependants', 'age', 'prior_order_median']).copy() # use copy() to avoid 'copy of a slice' error\n",
    "df_deps_age_max = pd.DataFrame(ict_final_df, columns=['user_id', 'dependants', 'age', 'max_order']).copy() # use copy() to avoid 'copy of a slice' error"
   ]
  },
  {
   "cell_type": "code",
   "execution_count": null,
   "id": "956d9d86",
   "metadata": {},
   "outputs": [],
   "source": [
    "# check result\n",
    "\n",
    "df_deps_age_dow.shape"
   ]
  },
  {
   "cell_type": "code",
   "execution_count": null,
   "id": "a039e6b1",
   "metadata": {},
   "outputs": [],
   "source": [
    "df_deps_age_dow.head()"
   ]
  },
  {
   "cell_type": "code",
   "execution_count": null,
   "id": "e948902a",
   "metadata": {},
   "outputs": [],
   "source": [
    "# remove all dupes\n",
    "\n",
    "df_deps_age_dow = df_deps_age_dow.drop_duplicates()\n",
    "\n",
    "df_deps_age_dow.shape"
   ]
  },
  {
   "cell_type": "code",
   "execution_count": null,
   "id": "fe29faad",
   "metadata": {},
   "outputs": [],
   "source": [
    "# find mode of orders_dow\n",
    "\n",
    "df_deps_age_dow['most_ordered_day'] = df_deps_age_dow.groupby(['dependants', 'age'])['orders_day_of_week'].transform(lambda x: x.mode().iloc[0])"
   ]
  },
  {
   "cell_type": "code",
   "execution_count": null,
   "id": "9268c763",
   "metadata": {},
   "outputs": [],
   "source": [
    "# check result\n",
    "\n",
    "df_deps_age_dow.head()"
   ]
  },
  {
   "cell_type": "code",
   "execution_count": null,
   "id": "0c1fdbca",
   "metadata": {},
   "outputs": [],
   "source": [
    "# remove all dupes\n",
    "\n",
    "df_deps_age_dow = df_deps_age_dow.drop_duplicates(subset=['dependants', 'age'])\n",
    "\n",
    "df_deps_age_dow.shape"
   ]
  },
  {
   "cell_type": "code",
   "execution_count": null,
   "id": "ff1ef2c6",
   "metadata": {},
   "outputs": [],
   "source": [
    "df_deps_age_hod.shape"
   ]
  },
  {
   "cell_type": "code",
   "execution_count": null,
   "id": "ecd690fe",
   "metadata": {},
   "outputs": [],
   "source": [
    "df_deps_age_hod.head()"
   ]
  },
  {
   "cell_type": "code",
   "execution_count": null,
   "id": "7b91abfd",
   "metadata": {},
   "outputs": [],
   "source": [
    "# remove all dupes\n",
    "\n",
    "df_deps_age_hod = df_deps_age_hod.drop_duplicates()\n",
    "\n",
    "df_deps_age_hod.shape"
   ]
  },
  {
   "cell_type": "code",
   "execution_count": null,
   "id": "f4f97890",
   "metadata": {},
   "outputs": [],
   "source": [
    "# find mode of orders_hod\n",
    "\n",
    "df_deps_age_hod['most_ordered_hour'] = df_deps_age_hod.groupby(['dependants', 'age'])['order_hour_of_day'].transform(lambda x: x.mode().iloc[0])"
   ]
  },
  {
   "cell_type": "code",
   "execution_count": null,
   "id": "61ed9875",
   "metadata": {},
   "outputs": [],
   "source": [
    "# check result\n",
    "\n",
    "df_deps_age_hod.head()"
   ]
  },
  {
   "cell_type": "code",
   "execution_count": null,
   "id": "7d04b4ca",
   "metadata": {},
   "outputs": [],
   "source": [
    "# remove all dupes\n",
    "\n",
    "df_deps_age_hod = df_deps_age_hod.drop_duplicates(subset=['dependants', 'age'])\n",
    "\n",
    "df_deps_age_hod.shape"
   ]
  },
  {
   "cell_type": "code",
   "execution_count": null,
   "id": "88ab5bcb",
   "metadata": {},
   "outputs": [],
   "source": [
    "df_deps_age_prices.shape"
   ]
  },
  {
   "cell_type": "code",
   "execution_count": null,
   "id": "ad76771a",
   "metadata": {},
   "outputs": [],
   "source": [
    "df_deps_age_prices.head()"
   ]
  },
  {
   "cell_type": "code",
   "execution_count": null,
   "id": "e03d7568",
   "metadata": {},
   "outputs": [],
   "source": [
    "# find avg. price_per_item\n",
    "\n",
    "df_deps_age_prices['avg_price_per_item'] = df_deps_age_prices.groupby(['dependants', 'age'])['prices'].transform('mean')"
   ]
  },
  {
   "cell_type": "code",
   "execution_count": null,
   "id": "3ac2b781",
   "metadata": {},
   "outputs": [],
   "source": [
    "df_deps_age_prices.head()"
   ]
  },
  {
   "cell_type": "code",
   "execution_count": null,
   "id": "19282e6b",
   "metadata": {},
   "outputs": [],
   "source": [
    "# remove all dupes\n",
    "\n",
    "df_deps_age_prices = df_deps_age_prices.drop_duplicates(subset=['dependants', 'age'])\n",
    "\n",
    "df_deps_age_prices.shape"
   ]
  },
  {
   "cell_type": "code",
   "execution_count": null,
   "id": "d7831e8a",
   "metadata": {},
   "outputs": [],
   "source": [
    "df_deps_age_total.shape"
   ]
  },
  {
   "cell_type": "code",
   "execution_count": null,
   "id": "ca9fd72d",
   "metadata": {},
   "outputs": [],
   "source": [
    "df_deps_age_total.head()"
   ]
  },
  {
   "cell_type": "code",
   "execution_count": null,
   "id": "2c1dc1cb",
   "metadata": {},
   "outputs": [],
   "source": [
    "# remove all dupes\n",
    "\n",
    "df_deps_age_total = df_deps_age_total.drop_duplicates()\n",
    "\n",
    "df_deps_age_total.shape"
   ]
  },
  {
   "cell_type": "code",
   "execution_count": null,
   "id": "f23f52ca",
   "metadata": {},
   "outputs": [],
   "source": [
    "# find avg order_total and add as new col\n",
    "\n",
    "df_deps_age_total['avg_order'] = df_deps_age_total.groupby(['dependants', 'age'])['order_total'].transform('mean')"
   ]
  },
  {
   "cell_type": "code",
   "execution_count": null,
   "id": "bbebfaba",
   "metadata": {},
   "outputs": [],
   "source": [
    "df_deps_age_total.head()"
   ]
  },
  {
   "cell_type": "code",
   "execution_count": null,
   "id": "ef861490",
   "metadata": {},
   "outputs": [],
   "source": [
    "# remove all dupes\n",
    "\n",
    "df_deps_age_total = df_deps_age_total.drop_duplicates(subset=['dependants', 'age'])\n",
    "\n",
    "df_deps_age_total.shape"
   ]
  },
  {
   "cell_type": "code",
   "execution_count": null,
   "id": "34ab3a53",
   "metadata": {},
   "outputs": [],
   "source": [
    "df_deps_age_prior.shape"
   ]
  },
  {
   "cell_type": "code",
   "execution_count": null,
   "id": "0ed3dae1",
   "metadata": {},
   "outputs": [],
   "source": [
    "df_deps_age_prior.head()"
   ]
  },
  {
   "cell_type": "code",
   "execution_count": null,
   "id": "0a962dc6",
   "metadata": {},
   "outputs": [],
   "source": [
    "# remove all dupes\n",
    "\n",
    "df_deps_age_prior = df_deps_age_prior.drop_duplicates()\n",
    "\n",
    "df_deps_age_prior.shape"
   ]
  },
  {
   "cell_type": "code",
   "execution_count": null,
   "id": "810d55fc",
   "metadata": {},
   "outputs": [],
   "source": [
    "# find median days_since_prior and add as new col\n",
    "\n",
    "df_deps_age_prior['avg_days_between_orders'] = df_deps_age_prior.groupby(['dependants', 'age'])['prior_order_median'].transform('mean')"
   ]
  },
  {
   "cell_type": "code",
   "execution_count": null,
   "id": "94ee331c",
   "metadata": {},
   "outputs": [],
   "source": [
    "df_deps_age_prior.head()"
   ]
  },
  {
   "cell_type": "code",
   "execution_count": null,
   "id": "73287a38",
   "metadata": {},
   "outputs": [],
   "source": [
    "# remove all dupes\n",
    "\n",
    "df_deps_age_prior = df_deps_age_prior.drop_duplicates(subset=['dependants', 'age'])\n",
    "\n",
    "df_deps_age_prior.shape"
   ]
  },
  {
   "cell_type": "code",
   "execution_count": null,
   "id": "7f13d2e7",
   "metadata": {},
   "outputs": [],
   "source": [
    "df_deps_age_max.shape"
   ]
  },
  {
   "cell_type": "code",
   "execution_count": null,
   "id": "ff891dab",
   "metadata": {},
   "outputs": [],
   "source": [
    "df_deps_age_max.head()"
   ]
  },
  {
   "cell_type": "code",
   "execution_count": null,
   "id": "ed66746d",
   "metadata": {},
   "outputs": [],
   "source": [
    "# remove all dupes\n",
    "\n",
    "df_deps_age_max = df_deps_age_max.drop_duplicates()\n",
    "\n",
    "df_deps_age_max.shape"
   ]
  },
  {
   "cell_type": "code",
   "execution_count": null,
   "id": "81ab170f",
   "metadata": {},
   "outputs": [],
   "source": [
    "# find avg. max_order\n",
    "\n",
    "df_deps_age_max['avg_max_order'] = df_deps_age_max.groupby(['dependants', 'age'])['max_order'].transform('mean')"
   ]
  },
  {
   "cell_type": "code",
   "execution_count": null,
   "id": "bf994fab",
   "metadata": {},
   "outputs": [],
   "source": [
    "df_deps_age_max.head()"
   ]
  },
  {
   "cell_type": "code",
   "execution_count": null,
   "id": "45e9c652",
   "metadata": {},
   "outputs": [],
   "source": [
    "# remove all dupes\n",
    "\n",
    "df_deps_age_max = df_deps_age_max.drop_duplicates(subset=['dependants', 'age'])\n",
    "\n",
    "df_deps_age_max.shape"
   ]
  },
  {
   "cell_type": "code",
   "execution_count": null,
   "id": "6d0b4b97",
   "metadata": {},
   "outputs": [],
   "source": [
    "# create df_list\n",
    "\n",
    "df_list=[df_deps_age_dow, df_deps_age_hod, df_deps_age_prior, df_deps_age_max, df_deps_age_total, df_deps_age_prices]"
   ]
  },
  {
   "cell_type": "code",
   "execution_count": null,
   "id": "48f62b64",
   "metadata": {},
   "outputs": [],
   "source": [
    "# check all df_list shape\n",
    "\n",
    "for df in df_list:\n",
    "  print(df.shape)"
   ]
  },
  {
   "cell_type": "code",
   "execution_count": null,
   "id": "56530729",
   "metadata": {},
   "outputs": [],
   "source": [
    "# check all df_list head()\n",
    "\n",
    "for df in df_list:\n",
    "  print(df.head())"
   ]
  },
  {
   "cell_type": "code",
   "execution_count": null,
   "id": "03fb6277",
   "metadata": {},
   "outputs": [],
   "source": [
    "# remove all unnecessary cols\n",
    "\n",
    "df_deps_age_dow = df_deps_age_dow.drop(columns=['order_id', 'user_id', 'orders_day_of_week'], axis=1)\n",
    "df_deps_age_hod = df_deps_age_hod.drop(columns=['order_id', 'user_id', 'order_hour_of_day'], axis=1)\n",
    "df_deps_age_prior = df_deps_age_prior.drop(columns=['user_id', 'prior_order_median'], axis=1)\n",
    "df_deps_age_max = df_deps_age_max.drop(columns=['user_id', 'max_order'], axis=1)\n",
    "df_deps_age_total = df_deps_age_total.drop(columns=['order_id', 'user_id', 'order_total'], axis=1)\n",
    "df_deps_age_prices = df_deps_age_prices.drop(columns=['order_id', 'user_id', 'prices'], axis=1)"
   ]
  },
  {
   "cell_type": "markdown",
   "id": "d0ff3032",
   "metadata": {},
   "source": [
    "<a id='26'></a> <br>\n",
    ">> ## a. Most Frequent Day"
   ]
  },
  {
   "cell_type": "code",
   "execution_count": null,
   "id": "63834e00",
   "metadata": {},
   "outputs": [],
   "source": [
    "sc_deps_age_dow = sns.lmplot(x='age', y='most_ordered_day', data=df_deps_age_dow, hue='dependants', fit_reg=False)\n",
    "\n",
    "# Edit the labels, title, legend\n",
    "plt.xlabel('Age', fontsize=14)\n",
    "plt.ylabel('Order Day', fontsize=14)\n",
    "plt.title('Age/Family Status Ordering Habits \\n\\nMOST FREQUENT DAY')\n",
    "\n",
    "# Export chart to the visualizations folder using savefig() function\n",
    "\n",
    "sc_deps_age_dow.figure.savefig(os.path.join(path, '04 Analysis','Visualizations', 'sc_deps_age_dow.png'), bbox_inches='tight') # saves png w/out cutting off x,yaxis labels"
   ]
  },
  {
   "cell_type": "markdown",
   "id": "5e5c0b64",
   "metadata": {},
   "source": [
    "<a id='27'></a> <br>\n",
    ">> ## b. Most Frequent Hour"
   ]
  },
  {
   "cell_type": "code",
   "execution_count": null,
   "id": "75b4a78e",
   "metadata": {},
   "outputs": [],
   "source": [
    "sc_deps_age_hod = sns.lmplot(x='age', y='most_ordered_hour', data=df_deps_age_hod, hue='dependants', fit_reg=False)\n",
    "\n",
    "# Edit the labels, title, legend\n",
    "plt.xlabel('Age', fontsize=14)\n",
    "plt.ylabel('Hour of Day', fontsize=14)\n",
    "plt.title('Age/Family Status Ordering Habits \\n\\nMOST FREQUENT HOUR')\n",
    "\n",
    "# Export chart to the visualizations folder using savefig() function\n",
    "\n",
    "sc_deps_age_hod.figure.savefig(os.path.join(path, '04 Analysis','Visualizations', 'sc_deps_age_hod.png'), bbox_inches='tight') # saves png w/out cutting off x,yaxis labels"
   ]
  },
  {
   "cell_type": "markdown",
   "id": "390e2856",
   "metadata": {},
   "source": [
    "<a id='28'></a> <br>\n",
    ">> ## c. Frequency of Orders"
   ]
  },
  {
   "cell_type": "code",
   "execution_count": null,
   "id": "3a3ee961",
   "metadata": {},
   "outputs": [],
   "source": [
    "sc_deps_age_prior = sns.lmplot(x='age', y='avg_days_between_orders', data=df_deps_age_prior, hue='dependants', fit_reg=False)\n",
    "\n",
    "# Edit the labels, title, legend\n",
    "plt.xlabel('Age', fontsize=14)\n",
    "plt.ylabel('Avg. Days b/w Orders', fontsize=14)\n",
    "plt.title('Age/Family Status Ordering Habits \\n\\nFREQUENCY OF ORDERS')\n",
    "\n",
    "# Export chart to the visualizations folder using savefig() function\n",
    "\n",
    "sc_deps_age_prior.figure.savefig(os.path.join(path, '04 Analysis','Visualizations', 'sc_deps_age_prior.png'), bbox_inches='tight') # saves png w/out cutting off x,yaxis labels"
   ]
  },
  {
   "cell_type": "markdown",
   "id": "49bd349d",
   "metadata": {},
   "source": [
    "<a id='29'></a> <br>\n",
    ">> ## d. Avg. Number of Orders"
   ]
  },
  {
   "cell_type": "code",
   "execution_count": null,
   "id": "ce53a993",
   "metadata": {},
   "outputs": [],
   "source": [
    "# create scatter plots to check for connection b/w age and fam_status\n",
    "\n",
    "sc_age_deps_max = sns.lmplot(x='age', y='avg_max_order', data=df_deps_age_max, hue='dependants', fit_reg=False)\n",
    "\n",
    "# Edit the labels, title, legend\n",
    "plt.xlabel('Age', fontsize=14)\n",
    "plt.ylabel('Avg. # of Orders', fontsize=14)\n",
    "plt.title('Age/Family Status Ordering Habits \\n\\nAVG # ORDERS')\n",
    "\n",
    "# Export chart to the visualizations folder using savefig() function\n",
    "\n",
    "sc_age_deps_max.figure.savefig(os.path.join(path, '04 Analysis','Visualizations', 'sc_age_deps_max.png'), bbox_inches='tight') # saves png w/out cutting off x,yaxis labels"
   ]
  },
  {
   "cell_type": "markdown",
   "id": "8ddc6771",
   "metadata": {},
   "source": [
    "<a id='30'></a> <br>\n",
    ">> ## e. Avg. Order Total"
   ]
  },
  {
   "cell_type": "code",
   "execution_count": null,
   "id": "11cc1a19",
   "metadata": {},
   "outputs": [],
   "source": [
    "sc_deps_age_total = sns.lmplot(x='age', y='avg_order', data=df_deps_age_total, hue='dependants', fit_reg=False)\n",
    "\n",
    "# Edit the labels, title, legend\n",
    "plt.xlabel('Age', fontsize=14)\n",
    "plt.ylabel('Order Total', fontsize=14)\n",
    "plt.title('Age/Family Status Ordering Habits \\n\\nAVG. ORDER TOTAL')\n",
    "\n",
    "# Export chart to the visualizations folder using savefig() function\n",
    "\n",
    "sc_deps_age_total.figure.savefig(os.path.join(path, '04 Analysis','Visualizations', 'sc_deps_age_total.png'), bbox_inches='tight') # saves png w/out cutting off x,yaxis labels"
   ]
  },
  {
   "cell_type": "markdown",
   "id": "e69c3793",
   "metadata": {},
   "source": [
    "<a id='31'></a> <br>\n",
    ">> ## f. Avg. Price Per Item"
   ]
  },
  {
   "cell_type": "code",
   "execution_count": null,
   "id": "130a4f02",
   "metadata": {},
   "outputs": [],
   "source": [
    "sc_deps_age_prices = sns.lmplot(x='age', y='avg_price_per_item', data=df_deps_age_prices, hue='dependants', fit_reg=False)\n",
    "\n",
    "# Edit the labels, title, legend\n",
    "plt.xlabel('Age', fontsize=14)\n",
    "plt.ylabel('Price Per Item', fontsize=14)\n",
    "plt.title('Age/Family Status Ordering Habits \\n\\nAVG. PRICE PER ITEM')\n",
    "\n",
    "# Export chart to the visualizations folder using savefig() function\n",
    "\n",
    "sc_deps_age_prices.figure.savefig(os.path.join(path, '04 Analysis','Visualizations', 'sc_deps_age_prices.png'), bbox_inches='tight') # saves png w/out cutting off x,yaxis labels"
   ]
  },
  {
   "cell_type": "markdown",
   "id": "c1d14c7f",
   "metadata": {},
   "source": [
    "### - There is NO connection between Age and Fam_Status in terms of ordering habits."
   ]
  },
  {
   "cell_type": "markdown",
   "id": "9b3307ae",
   "metadata": {},
   "source": [
    "<a id='32'></a> <br>\n",
    "> ## E. Demographics\n",
    "> ## What different classificatinos does the demographic information suggest?\n",
    "\n",
    "### - Age\n",
    "- 18-81   \n",
    "### - State\n",
    "- 50 US States + D.C.\n",
    "### - Gender\n",
    "- Male or Female\n",
    "### - Family Status\n",
    "- single, divorced/widowed, living with parents and siblings, married\n",
    "### - Income\n",
    "- 25,903-593,901\n",
    "### - Region\n",
    "- Northeast, South, Midwest, West\n",
    "### - Number of Dependants\n",
    "- 0-3"
   ]
  },
  {
   "cell_type": "markdown",
   "id": "d78b2549",
   "metadata": {},
   "source": [
    "<a id='33'></a> <br>\n",
    "> ## F. Customer Profile Ordering Habits"
   ]
  },
  {
   "cell_type": "code",
   "execution_count": null,
   "id": "13b796fb",
   "metadata": {},
   "outputs": [],
   "source": [
    "# First change outliers to NaN to correct skew of distribution\n",
    "\n",
    "ict_final_df.loc[ict_final_df['prices'] >100, 'prices'] = np.nan"
   ]
  },
  {
   "cell_type": "code",
   "execution_count": null,
   "id": "db01c2b3",
   "metadata": {},
   "outputs": [],
   "source": [
    "# create df of cust_prof and ordering stats\n",
    "\n",
    "df_prof_order_habits = pd.DataFrame(ict_final_df, columns=['order_id', 'user_id', 'customer_profile', 'prices', 'product_name', 'department', 'orders_day_of_week', 'order_hour_of_day',\n",
    "                                                          'days_since_prior_order', 'max_order', 'order_total']).copy() # use copy() to avoid 'copy of a slice' error"
   ]
  },
  {
   "cell_type": "code",
   "execution_count": null,
   "id": "d783d98c",
   "metadata": {},
   "outputs": [],
   "source": [
    "# check result\n",
    "\n",
    "df_prof_order_habits.shape"
   ]
  },
  {
   "cell_type": "markdown",
   "id": "b12bc9e4",
   "metadata": {},
   "source": [
    "<a id='34'></a> <br>\n",
    ">> ## a. Price per Item"
   ]
  },
  {
   "cell_type": "code",
   "execution_count": null,
   "id": "af417371",
   "metadata": {},
   "outputs": [],
   "source": [
    "# Group the DataFrame by profile and calculate the average price per item\n",
    "\n",
    "avg_price = df_prof_order_habits.groupby('customer_profile')['prices'].mean()\n",
    "\n",
    "# Create a bar plot\n",
    "plt.barh(avg_price.index, avg_price.values, edgecolor='black')\n",
    "\n",
    "# Add bar labels\n",
    "for i, bar in enumerate(plt.gca().patches):\n",
    "    plt.text(bar.get_width(), bar.get_y() + bar.get_height() / 4, f'${bar.get_width():.2f}', ha='right', va='center', fontsize=14)\n",
    "\n",
    "plt.xlabel('Average Price Per Item')\n",
    "plt.ylabel('Customer Profile', fontsize=12, fontweight='bold')\n",
    "plt.title('Average Price Per Item \\nby Customer Profile', fontsize=14, fontweight='bold')\n",
    "\n",
    "# Export chart to the visualizations folder using savefig() function\n",
    "\n",
    "plt.savefig(os.path.join(path, '04 Analysis','Visualizations', 'barh_prof_ppprod_avg.png'), \n",
    "                                bbox_inches='tight') # keeps entire fig in the png"
   ]
  },
  {
   "cell_type": "markdown",
   "id": "20817ed3",
   "metadata": {},
   "source": [
    "<a id='35'></a> <br>\n",
    ">> ## b. Products"
   ]
  },
  {
   "cell_type": "code",
   "execution_count": null,
   "id": "bb80da7b",
   "metadata": {},
   "outputs": [],
   "source": [
    "# creates a ct of customer_profile and product\n",
    "\n",
    "ct_prod_val_cnts = pd.crosstab(df_prof_order_habits['product_name'], df_prof_order_habits['customer_profile'])"
   ]
  },
  {
   "cell_type": "code",
   "execution_count": null,
   "id": "1d0b4183",
   "metadata": {},
   "outputs": [],
   "source": [
    "# check results\n",
    "\n",
    "ct_prod_val_cnts.shape"
   ]
  },
  {
   "cell_type": "code",
   "execution_count": null,
   "id": "d7ce9bf4",
   "metadata": {},
   "outputs": [],
   "source": [
    "ct_prod_val_cnts = ct_prod_val_cnts.sort_values(by='Middle aged married parent', ascending=False)"
   ]
  },
  {
   "cell_type": "code",
   "execution_count": null,
   "id": "0715a2ee",
   "metadata": {},
   "outputs": [],
   "source": [
    "# check result\n",
    "\n",
    "ct_prod_val_cnts.head()"
   ]
  },
  {
   "cell_type": "code",
   "execution_count": null,
   "id": "48de1b63",
   "metadata": {},
   "outputs": [],
   "source": [
    "ct_prod_val_cnts = ct_prod_val_cnts.head(10)"
   ]
  },
  {
   "cell_type": "code",
   "execution_count": null,
   "id": "f4a7eb62",
   "metadata": {},
   "outputs": [],
   "source": [
    "ct_prod_val_cnts.shape"
   ]
  },
  {
   "cell_type": "code",
   "execution_count": null,
   "id": "a2d46dd3",
   "metadata": {
    "scrolled": false
   },
   "outputs": [],
   "source": [
    "norm = plt.Normalize(0, ct_prod_val_cnts[column].values.max()) # uses values from 'count' col. as the color range\n",
    "colors = plt.cm.Blues_r(norm(ct_prod_val_cnts[column].values)) # creates a blue color map\n",
    "    \n",
    "plt.suptitle('Top 10 Products Purchased by Customer Profile', fontsize=18, fontweight='bold')\n",
    "for column in ct_prod_val_cnts.columns:\n",
    "    # Create a bar plot\n",
    "    fig = ct_prod_val_cnts[column].sort_values(ascending=True).plot.barh(linewidth=1, edgecolor='black', color=colors)\n",
    "    \n",
    "    # adds commas\n",
    "    for c in fig.containers:\n",
    "        fig.bar_label(c, fmt='  {:,.0f} \\n units sold', fontweight='medium', fontsize=10)\n",
    "        \n",
    "        # Add a title and y_axix label to the bar plot\n",
    "        plt.title(column, fontsize=14)\n",
    "        plt.ylabel('Products')\n",
    "                \n",
    "        # adds n% whitespace to margins to keep labels inside the box\n",
    "        fig.margins(x=0.3)\n",
    "\n",
    "    # Export chart to the visualizations folder using savefig() function\n",
    "    plt.savefig(os.path.join(path, '04 Analysis','Visualizations', 'barh_prof_fav_prod.png'), bbox_inches='tight') # keeps entire fig in the png\n",
    "    plt.tight_layout()\n",
    "    plt.show()"
   ]
  },
  {
   "cell_type": "markdown",
   "id": "dde0f082",
   "metadata": {},
   "source": [
    "<a id='36'></a> <br>\n",
    ">> ## c. Department"
   ]
  },
  {
   "cell_type": "code",
   "execution_count": null,
   "id": "3787ffc0",
   "metadata": {},
   "outputs": [],
   "source": [
    "# creates a ct of customer_profile and department\n",
    "\n",
    "ct_dept_val_cnts = pd.crosstab(df_prof_order_habits['department'], df_prof_order_habits['customer_profile'])"
   ]
  },
  {
   "cell_type": "code",
   "execution_count": null,
   "id": "69270522",
   "metadata": {},
   "outputs": [],
   "source": [
    "# check result\n",
    "\n",
    "ct_dept_val_cnts.shape"
   ]
  },
  {
   "cell_type": "code",
   "execution_count": null,
   "id": "b3565602",
   "metadata": {},
   "outputs": [],
   "source": [
    "ct_dept_val_cnts.head()"
   ]
  },
  {
   "cell_type": "code",
   "execution_count": null,
   "id": "c1f2a500",
   "metadata": {},
   "outputs": [],
   "source": [
    "ct_dept_val_cnts = ct_dept_val_cnts.sort_values(by='Middle aged married parent', ascending=False)"
   ]
  },
  {
   "cell_type": "code",
   "execution_count": null,
   "id": "d11e29e8",
   "metadata": {},
   "outputs": [],
   "source": [
    "ct_dept_val_cnts.head()"
   ]
  },
  {
   "cell_type": "code",
   "execution_count": null,
   "id": "268322fd",
   "metadata": {},
   "outputs": [],
   "source": [
    "ct_dept_val_cnts = ct_dept_val_cnts.head(10)"
   ]
  },
  {
   "cell_type": "code",
   "execution_count": null,
   "id": "0816be87",
   "metadata": {},
   "outputs": [],
   "source": [
    "ct_dept_val_cnts"
   ]
  },
  {
   "cell_type": "code",
   "execution_count": null,
   "id": "58417652",
   "metadata": {
    "scrolled": false
   },
   "outputs": [],
   "source": [
    "norm = plt.Normalize(0, ct_dept_val_cnts[column].values.max()) # uses values from 'count' col. as the color range\n",
    "colors = plt.cm.Reds_r(norm(ct_dept_val_cnts[column].values)) # creates a blue color map\n",
    "    \n",
    "plt.suptitle('Top 10 Departments by Customer Profile', fontsize=18, fontweight='bold')\n",
    "for column in ct_dept_val_cnts.columns:\n",
    "    # Create a bar plot\n",
    "    fig = ct_dept_val_cnts[column].sort_values(ascending=True).plot.barh(linewidth=1, edgecolor='black', color=colors)\n",
    "    \n",
    "    # adds commas\n",
    "    for c in fig.containers:\n",
    "        fig.bar_label(c, fmt='  {:,.0f} \\n  visits', fontweight='medium', fontsize=10)\n",
    "        \n",
    "        # Add a title and y_axix label to the bar plot\n",
    "        plt.title(column, fontsize=14)\n",
    "        plt.ylabel('Departments')\n",
    "                \n",
    "        # adds n% whitespace to margins to keep labels inside the box\n",
    "        fig.margins(x=0.3)\n",
    "\n",
    "    # Export chart to the visualizations folder using savefig() function\n",
    "    plt.savefig(os.path.join(path, '04 Analysis','Visualizations', 'barh_prof_fav_dept.png'), bbox_inches='tight') # keeps entire fig in the png\n",
    "    plt.tight_layout()\n",
    "    plt.show()"
   ]
  },
  {
   "cell_type": "markdown",
   "id": "9ab29e82",
   "metadata": {},
   "source": [
    "<a id='37'></a> <br>\n",
    ">> ## d. Orders_day_of_week"
   ]
  },
  {
   "cell_type": "code",
   "execution_count": null,
   "id": "5997ddbf",
   "metadata": {},
   "outputs": [],
   "source": [
    "# remove all dupes on order_id level to calculate dow, hod, prior and avg. order total\n",
    "\n",
    "df_prof_order_habits = df_prof_order_habits.drop_duplicates(subset='order_id')\n",
    "\n",
    "df_prof_order_habits.shape"
   ]
  },
  {
   "cell_type": "code",
   "execution_count": null,
   "id": "c97cb9fa",
   "metadata": {},
   "outputs": [],
   "source": [
    "# creates a ct of customer_profile and order_dow\n",
    "\n",
    "ct_dow_val_cnts = pd.crosstab(df_prof_order_habits['orders_day_of_week'], df_prof_order_habits['customer_profile'])"
   ]
  },
  {
   "cell_type": "code",
   "execution_count": null,
   "id": "881299d6",
   "metadata": {},
   "outputs": [],
   "source": [
    "# check result\n",
    "\n",
    "ct_dow_val_cnts.shape"
   ]
  },
  {
   "cell_type": "code",
   "execution_count": null,
   "id": "c77b55ad",
   "metadata": {},
   "outputs": [],
   "source": [
    "ct_dow_val_cnts"
   ]
  },
  {
   "cell_type": "code",
   "execution_count": null,
   "id": "24447ea3",
   "metadata": {},
   "outputs": [],
   "source": [
    "ct_dow_val_cnts.reset_index(inplace=True)"
   ]
  },
  {
   "cell_type": "code",
   "execution_count": null,
   "id": "12dc3186",
   "metadata": {},
   "outputs": [],
   "source": [
    "# create a map of numbers to day of week\n",
    "\n",
    "days = {0:'Saturday', 1:'Sunday', 2:'Monday', 3:'Tuesday', 4:'Wednesday', 5:'Thursday', 6:'Friday'}\n",
    "\n",
    "# add new Weekday_name col to df\n",
    "\n",
    "ct_dow_val_cnts['weekday_name'] = ct_dow_val_cnts['orders_day_of_week'].map(days)"
   ]
  },
  {
   "cell_type": "code",
   "execution_count": null,
   "id": "b9bc8cf6",
   "metadata": {},
   "outputs": [],
   "source": [
    "ct_dow_val_cnts"
   ]
  },
  {
   "cell_type": "code",
   "execution_count": null,
   "id": "f0fb7159",
   "metadata": {},
   "outputs": [],
   "source": [
    "# drop orders_day_of_week \n",
    "\n",
    "ct_dow_val_cnts = ct_dow_val_cnts.drop('orders_day_of_week', axis=1)\n",
    "\n",
    "ct_dow_val_cnts.head()"
   ]
  },
  {
   "cell_type": "code",
   "execution_count": null,
   "id": "c5b06ecc",
   "metadata": {},
   "outputs": [],
   "source": [
    "# reset index by weekday_name \n",
    "\n",
    "ct_dow_val_cnts = ct_dow_val_cnts.reindex(columns=['weekday_name', 'Middle aged married parent', 'Middle aged single adult', 'Older married parent', 'Older single adult', 'Young married parent', 'Young single adult', 'Young single parent'])\n",
    "\n",
    "ct_dow_val_cnts.head()"
   ]
  },
  {
   "cell_type": "code",
   "execution_count": null,
   "id": "d54ae67e",
   "metadata": {},
   "outputs": [],
   "source": [
    "# set index by 'weekday_name'\n",
    "\n",
    "ct_dow_val_cnts = ct_dow_val_cnts.set_index('weekday_name')"
   ]
  },
  {
   "cell_type": "code",
   "execution_count": null,
   "id": "a11ad76b",
   "metadata": {},
   "outputs": [],
   "source": [
    "ct_dow_val_cnts.head()"
   ]
  },
  {
   "cell_type": "code",
   "execution_count": null,
   "id": "da850061",
   "metadata": {
    "scrolled": false
   },
   "outputs": [],
   "source": [
    "norm = plt.Normalize(0, ct_dow_val_cnts[column].values.max()) # uses values from 'count' col. as the color range\n",
    "colors = plt.cm.Greens_r(norm(ct_dow_val_cnts[column].values)) # creates a green color map in reverse (_r)\n",
    "    \n",
    "plt.suptitle('Most Ordered Day of Week by Customer Profile', fontsize=18, fontweight='bold')\n",
    "for column in ct_dow_val_cnts.columns:\n",
    "    # Create a bar plot\n",
    "    fig = ct_dow_val_cnts[column].sort_values(ascending=True).plot.barh(linewidth=1, edgecolor='black', color=colors)\n",
    "    \n",
    "    # adds commas\n",
    "    for c in fig.containers:\n",
    "        fig.bar_label(c, fmt='  {:,.0f} \\n orders', fontweight='medium', fontsize=10)\n",
    "        \n",
    "        # Add a title and y_axix label to the bar plot\n",
    "        plt.title(column, fontsize=14)\n",
    "        plt.ylabel('Day of Week')\n",
    "                \n",
    "        # adds n% whitespace to margins to keep labels inside the box\n",
    "        fig.margins(x=0.3)\n",
    "\n",
    "    # Export chart to the visualizations folder using savefig() function\n",
    "    plt.savefig(os.path.join(path, '04 Analysis','Visualizations', 'barh_prof_freq_dow.png'), bbox_inches='tight') # keeps entire fig in the png\n",
    "    plt.tight_layout()\n",
    "    plt.show()"
   ]
  },
  {
   "cell_type": "markdown",
   "id": "432bf284",
   "metadata": {},
   "source": [
    "<a id='38'></a> <br>\n",
    ">> ## e. Order_hour_of_day"
   ]
  },
  {
   "cell_type": "code",
   "execution_count": null,
   "id": "88fe2bed",
   "metadata": {},
   "outputs": [],
   "source": [
    "# creates a ct of customer_profile and order_hod\n",
    "\n",
    "ct_hod_val_cnts = pd.crosstab(df_prof_order_habits['order_hour_of_day'], df_prof_order_habits['customer_profile'])"
   ]
  },
  {
   "cell_type": "code",
   "execution_count": null,
   "id": "d7f032dd",
   "metadata": {},
   "outputs": [],
   "source": [
    "# check result\n",
    "\n",
    "ct_hod_val_cnts.shape"
   ]
  },
  {
   "cell_type": "code",
   "execution_count": null,
   "id": "96801884",
   "metadata": {},
   "outputs": [],
   "source": [
    "ct_hod_val_cnts"
   ]
  },
  {
   "cell_type": "code",
   "execution_count": null,
   "id": "da811f52",
   "metadata": {},
   "outputs": [],
   "source": [
    "ct_hod_val_cnts.reset_index(inplace=True)"
   ]
  },
  {
   "cell_type": "code",
   "execution_count": null,
   "id": "87a819d4",
   "metadata": {},
   "outputs": [],
   "source": [
    "# create a map of numbers to hour of day\n",
    "\n",
    "hours = {0:'12am', 1:'1am', 2:'2am', 3:'3am', 4:'4am', 5:'5am', 6:'6am', 7:'7am', 8:'8am', 9:'9am', 10:'10am', 11:'11am', 12:'12pm', 13:'1pm', 14:'2pm', 15:'3pm', 16:'4pm', 17:'5pm', 18:'6pm', 19:'7pm', 20:'8pm', 21:'9pm', 22:'10pm', 23:'11pm'}\n",
    "\n",
    "# add new Weekday_name col to df\n",
    "\n",
    "ct_hod_val_cnts['hour_of_day'] = ct_hod_val_cnts['order_hour_of_day'].map(hours)"
   ]
  },
  {
   "cell_type": "code",
   "execution_count": null,
   "id": "467617e7",
   "metadata": {},
   "outputs": [],
   "source": [
    "ct_hod_val_cnts"
   ]
  },
  {
   "cell_type": "code",
   "execution_count": null,
   "id": "4abd864c",
   "metadata": {},
   "outputs": [],
   "source": [
    "# drop order_hour_of_day \n",
    "\n",
    "ct_hod_val_cnts = ct_hod_val_cnts.drop('order_hour_of_day', axis=1)\n",
    "\n",
    "ct_hod_val_cnts.head()"
   ]
  },
  {
   "cell_type": "code",
   "execution_count": null,
   "id": "8f169f71",
   "metadata": {},
   "outputs": [],
   "source": [
    "# reindex by hour_of_day \n",
    "\n",
    "ct_hod_val_cnts = ct_hod_val_cnts.reindex(columns=['hour_of_day', 'Middle aged married parent', 'Middle aged single adult', 'Older married parent', 'Older single adult', 'Young married parent', 'Young single adult', 'Young single parent'])\n",
    "\n",
    "ct_hod_val_cnts.head()"
   ]
  },
  {
   "cell_type": "code",
   "execution_count": null,
   "id": "8f988f79",
   "metadata": {},
   "outputs": [],
   "source": [
    "# set_index to hour_of_day \n",
    "\n",
    "ct_hod_val_cnts = ct_hod_val_cnts.set_index('hour_of_day')"
   ]
  },
  {
   "cell_type": "code",
   "execution_count": null,
   "id": "b953c5d8",
   "metadata": {},
   "outputs": [],
   "source": [
    "ct_hod_val_cnts.head()"
   ]
  },
  {
   "cell_type": "code",
   "execution_count": null,
   "id": "4c95a241",
   "metadata": {
    "scrolled": false
   },
   "outputs": [],
   "source": [
    "norm = plt.Normalize(0, ct_hod_val_cnts[column].values.max()) # uses values from 'count' col. as the color range\n",
    "colors = plt.cm.Oranges_r(norm(ct_hod_val_cnts[column].values)) # creates an orange color map in reverse (_r)\n",
    "    \n",
    "plt.suptitle('Most Ordered Hour of Day by Customer Profile', fontsize=18, fontweight='bold')\n",
    "for column in ct_hod_val_cnts.columns:\n",
    "    # Create a bar plot\n",
    "    fig = ct_hod_val_cnts[column].sort_values(ascending=True).plot.barh(linewidth=1, edgecolor='black', color=colors)\n",
    "    \n",
    "    # adds commas\n",
    "    for c in fig.containers:\n",
    "        fig.bar_label(c, fmt=' {:,.0f} orders', fontweight='medium', fontsize=10)\n",
    "        \n",
    "        # Add a title and y_axix label to the bar plot\n",
    "        plt.title(column, fontsize=14)\n",
    "        plt.ylabel('Hour of Day')\n",
    "                \n",
    "        # adds n% whitespace to margins to keep labels inside the box\n",
    "        fig.margins(x=0.3)\n",
    "\n",
    "    # Export chart to the visualizations folder using savefig() function\n",
    "    plt.savefig(os.path.join(path, '04 Analysis','Visualizations', 'barh_prof_freq_hod.png'), bbox_inches='tight') # keeps entire fig in the png\n",
    "    plt.tight_layout()\n",
    "    plt.show()"
   ]
  },
  {
   "cell_type": "markdown",
   "id": "c6899082",
   "metadata": {},
   "source": [
    "<a id='39'></a> <br>\n",
    ">> ## f. Days between orders"
   ]
  },
  {
   "cell_type": "code",
   "execution_count": null,
   "id": "d87a7112",
   "metadata": {},
   "outputs": [],
   "source": [
    "# Group the DataFrame by profile and calculate the median prior_order\n",
    "\n",
    "med_prior = df_prof_order_habits.groupby('customer_profile')['days_since_prior_order'].median()\n",
    "\n",
    "# Create a bar plot\n",
    "plt.barh(med_prior.index, med_prior.values, edgecolor='black')\n",
    "\n",
    "# Add bar labels\n",
    "for i, bar in enumerate(plt.gca().patches):\n",
    "    plt.text(bar.get_width(), bar.get_y() + bar.get_height() / 4, f'{bar.get_width():.0f} days', ha='right', va='center', fontsize=14)\n",
    "\n",
    "plt.xlabel('Days Between Orders')\n",
    "plt.ylabel('Customer Profile', fontsize=12, fontweight='bold')\n",
    "plt.title('Average Days Between Orders \\nby Customer Profile', fontsize=14, fontweight='bold')\n",
    "\n",
    "# Export chart to the visualizations folder using savefig() function\n",
    "\n",
    "plt.savefig(os.path.join(path, '04 Analysis','Visualizations', 'barh_prof_prior_median.png'), \n",
    "                                bbox_inches='tight') # keeps entire fig in the png"
   ]
  },
  {
   "cell_type": "markdown",
   "id": "6b2172ae",
   "metadata": {},
   "source": [
    "<a id='40'></a> <br>\n",
    ">> ## g. Order Total"
   ]
  },
  {
   "cell_type": "code",
   "execution_count": null,
   "id": "68efdaca",
   "metadata": {},
   "outputs": [],
   "source": [
    "# Group the DataFrame by profile and calculate the average order total\n",
    "\n",
    "avg_order = df_prof_order_habits.groupby('customer_profile')['order_total'].mean()\n",
    "\n",
    "# Create a bar plot\n",
    "plt.barh(avg_order.index, avg_order.values, edgecolor='black')\n",
    "\n",
    "# Add bar labels\n",
    "for i, bar in enumerate(plt.gca().patches):\n",
    "    plt.text(bar.get_width(), bar.get_y() + bar.get_height() / 4, f'${bar.get_width():.2f}', ha='right', va='center', fontsize=14)\n",
    "\n",
    "plt.xlabel('Order Total')\n",
    "plt.ylabel('Customer Profile', fontsize=12, fontweight='bold')\n",
    "plt.title('Average Order Total \\nby Customer Profile', fontsize=14, fontweight='bold')\n",
    "\n",
    "# Export chart to the visualizations folder using savefig() function\n",
    "\n",
    "plt.savefig(os.path.join(path, '04 Analysis','Visualizations', 'barh_prof_avg_order.png'), \n",
    "                                bbox_inches='tight') # keeps entire fig in the png"
   ]
  },
  {
   "cell_type": "markdown",
   "id": "a2f3d306",
   "metadata": {},
   "source": [
    "<a id='41'></a> <br>\n",
    ">> ## h. Max_order"
   ]
  },
  {
   "cell_type": "code",
   "execution_count": null,
   "id": "32f68699",
   "metadata": {},
   "outputs": [],
   "source": [
    "# remove all dupes on user_id level to calculate avg. max order\n",
    "\n",
    "df_prof_order_habits = df_prof_order_habits.drop_duplicates(subset='user_id')\n",
    "\n",
    "df_prof_order_habits.shape"
   ]
  },
  {
   "cell_type": "code",
   "execution_count": null,
   "id": "7b875d25",
   "metadata": {},
   "outputs": [],
   "source": [
    "# Group the DataFrame by profile and calculate the average max_order\n",
    "\n",
    "avg_max_order = df_prof_order_habits.groupby('customer_profile')['max_order'].mean()\n",
    "\n",
    "# Create a bar plot\n",
    "plt.barh(avg_max_order.index, avg_max_order.values, edgecolor='black')\n",
    "\n",
    "# Add bar labels\n",
    "for i, bar in enumerate(plt.gca().patches):\n",
    "    plt.text(bar.get_width(), bar.get_y() + bar.get_height() / 4, f'{bar.get_width():.0f} orders', ha='right', va='center', fontsize=14)\n",
    "\n",
    "plt.xlabel('Total Orders')\n",
    "plt.ylabel('Customer Profile', fontsize=12, fontweight='bold')\n",
    "plt.title('Average Number of Orders \\nby Customer Profile', fontsize=14, fontweight='bold')\n",
    "\n",
    "# Export chart to the visualizations folder using savefig() function\n",
    "\n",
    "plt.savefig(os.path.join(path, '04 Analysis','Visualizations', 'barh_prof_avg_max_order.png'), \n",
    "                                bbox_inches='tight') # keeps entire fig in the png"
   ]
  }
 ],
 "metadata": {
  "kernelspec": {
   "display_name": "Python 3 (ipykernel)",
   "language": "python",
   "name": "python3"
  },
  "language_info": {
   "codemirror_mode": {
    "name": "ipython",
    "version": 3
   },
   "file_extension": ".py",
   "mimetype": "text/x-python",
   "name": "python",
   "nbconvert_exporter": "python",
   "pygments_lexer": "ipython3",
   "version": "3.11.5"
  }
 },
 "nbformat": 4,
 "nbformat_minor": 5
}
